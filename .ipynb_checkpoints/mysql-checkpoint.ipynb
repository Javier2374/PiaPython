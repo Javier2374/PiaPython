{
 "cells": [
  {
   "cell_type": "markdown",
   "id": "bf3b59d5-ce6b-47ad-94b9-529951bcb7bc",
   "metadata": {},
   "source": [
    "docker run --name some-mysql-server -p 3306:3306 -e MYSQL_ROOT_PASSWORD=1234 -d mysql:8.3"
   ]
  },
  {
   "cell_type": "code",
   "execution_count": 1,
   "id": "7c80c3f0-ef9b-4e7e-a22d-bcb4fe17fa60",
   "metadata": {},
   "outputs": [
    {
     "name": "stdout",
     "output_type": "stream",
     "text": [
      "Requirement already satisfied: mysql-connector-python in /home/alumnadotarde/anaconda3/lib/python3.12/site-packages (9.1.0)\n"
     ]
    }
   ],
   "source": [
    "!pip install mysql-connector-python"
   ]
  },
  {
   "cell_type": "code",
   "execution_count": 2,
   "id": "b7eb17ff-6fd8-44c5-a4e4-10cadfd79dc7",
   "metadata": {},
   "outputs": [
    {
     "name": "stdout",
     "output_type": "stream",
     "text": [
      "(1, 'Juan', 30)\n",
      "(2, 'Pepe', 20)\n",
      "(3, 'Javi', 40)\n",
      "(4, 'Jorge', 25)\n"
     ]
    }
   ],
   "source": [
    "import mysql.connector\n",
    "\n",
    "mydb = mysql.connector.connect(\n",
    "host=\"localhost\",\n",
    "user=\"root\",\n",
    "password=\"1234\",\n",
    "database=\"personas\"\n",
    ")\n",
    "\n",
    "mycursor = mydb.cursor()\n",
    "\n",
    "mycursor.execute(\"SELECT * FROM persona\")\n",
    "\n",
    "myresult = mycursor.fetchall()\n",
    "\n",
    "for x in myresult:\n",
    "    print(x)"
   ]
  },
  {
   "cell_type": "code",
   "execution_count": 3,
   "id": "2584fb8d-3716-47f6-b8dc-d8bf68fd8f25",
   "metadata": {},
   "outputs": [],
   "source": [
    "mycursor.execute(\"insert into persona values (5,'Pepito', 27)\")\n",
    "\n",
    "mydb.commit()"
   ]
  },
  {
   "cell_type": "code",
   "execution_count": 10,
   "id": "8e42dac8-bd48-46e6-b68e-d688bf8b7932",
   "metadata": {},
   "outputs": [
    {
     "name": "stdout",
     "output_type": "stream",
     "text": [
      "[(1, 'Juan', 30), (2, 'Pepe', 20), (3, 'Javi', 40), (4, 'Jorge', 25), (5, 'Pepito', 27)]\n",
      "(1, 'Juan', 30)\n",
      "(2, 'Pepe', 20)\n",
      "(3, 'Javi', 40)\n",
      "(4, 'Jorge', 25)\n",
      "(5, 'Pepito', 27)\n"
     ]
    }
   ],
   "source": [
    "mycursor.execute(\"SELECT * FROM persona\")\n",
    "\n",
    "print(myresult)\n",
    "\n",
    "myresult = mycursor.fetchall()\n",
    "\n",
    "for x in myresult:\n",
    "    print(x)"
   ]
  },
  {
   "cell_type": "code",
   "execution_count": null,
   "id": "b1416876-4d06-4cc8-bf7c-e6ffd9729b14",
   "metadata": {},
   "outputs": [],
   "source": []
  }
 ],
 "metadata": {
  "kernelspec": {
   "display_name": "Python 3 (ipykernel)",
   "language": "python",
   "name": "python3"
  },
  "language_info": {
   "codemirror_mode": {
    "name": "ipython",
    "version": 3
   },
   "file_extension": ".py",
   "mimetype": "text/x-python",
   "name": "python",
   "nbconvert_exporter": "python",
   "pygments_lexer": "ipython3",
   "version": "3.12.4"
  }
 },
 "nbformat": 4,
 "nbformat_minor": 5
}

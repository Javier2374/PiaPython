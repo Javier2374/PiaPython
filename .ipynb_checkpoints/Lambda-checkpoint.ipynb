{
 "cells": [
  {
   "cell_type": "markdown",
   "metadata": {
    "id": "UMF_gbZ-Wymf"
   },
   "source": [
    "1. Escribe una función lambda que reciba un número y devuelva su cuadrado."
   ]
  },
  {
   "cell_type": "code",
   "execution_count": 7,
   "metadata": {
    "colab": {
     "base_uri": "https://localhost:8080/"
    },
    "executionInfo": {
     "elapsed": 7161,
     "status": "ok",
     "timestamp": 1728579845054,
     "user": {
      "displayName": "Javier Martínez Álvarez",
      "userId": "01650218822504026332"
     },
     "user_tz": -120
    },
    "id": "REmoWB_oXIaL",
    "outputId": "a5bd3000-b489-470c-b8d7-adac9b422aff"
   },
   "outputs": [
    {
     "name": "stdout",
     "output_type": "stream",
     "text": [
      "Escribe un número: 3\n",
      "El cuadrado es 9\n"
     ]
    }
   ],
   "source": [
    "num = int(input(\"Escribe un número: \"))\n",
    "\n",
    "cuadrado = (lambda x : x**2)(num)\n",
    "\n",
    "print(f\"El cuadrado es {cuadrado}\")"
   ]
  },
  {
   "cell_type": "markdown",
   "metadata": {
    "id": "iDwt5hPqXJca"
   },
   "source": [
    "2. Escribe una función lambda que tome un número y devuelva su inverso (1/n). Si el número es 0, devuelve None."
   ]
  },
  {
   "cell_type": "code",
   "execution_count": 11,
   "metadata": {
    "colab": {
     "base_uri": "https://localhost:8080/"
    },
    "executionInfo": {
     "elapsed": 1567,
     "status": "ok",
     "timestamp": 1728579982959,
     "user": {
      "displayName": "Javier Martínez Álvarez",
      "userId": "01650218822504026332"
     },
     "user_tz": -120
    },
    "id": "UMtulrXkYYLP",
    "outputId": "1efbd729-db02-4e2a-ce81-fb38e6b408bf"
   },
   "outputs": [
    {
     "name": "stdout",
     "output_type": "stream",
     "text": [
      "Escribe un número: 0\n",
      "El inverso es None\n"
     ]
    }
   ],
   "source": [
    "num = int(input(\"Escribe un número: \"))\n",
    "\n",
    "if num != 0:\n",
    "    inverso = (lambda x : 1/x)(num)\n",
    "else:\n",
    "    inverso = None\n",
    "\n",
    "print(f\"El inverso es {inverso}\")"
   ]
  },
  {
   "cell_type": "markdown",
   "metadata": {
    "id": "c1DPVEDcXNgT"
   },
   "source": [
    "3. Escribe una función lambda que tome dos cadenas y las concatena."
   ]
  },
  {
   "cell_type": "code",
   "execution_count": 3,
   "metadata": {},
   "outputs": [
    {
     "name": "stdout",
     "output_type": "stream",
     "text": [
      "Abcdef\n"
     ]
    }
   ],
   "source": [
    "cadena1 = \"Abc\"\n",
    "cadena2 = \"def\"\n",
    "\n",
    "cadena_nueva = (lambda x, y : x + y)(cadena1, cadena2)\n",
    "\n",
    "print(cadena_nueva)"
   ]
  },
  {
   "cell_type": "markdown",
   "metadata": {
    "id": "HnL3wNHhXN0U"
   },
   "source": [
    "4. Utiliza map() y una función lambda para crear una lista de cuadrados de una lista de números."
   ]
  },
  {
   "cell_type": "code",
   "execution_count": 5,
   "metadata": {},
   "outputs": [
    {
     "name": "stdout",
     "output_type": "stream",
     "text": [
      "[9, 25, 64]\n"
     ]
    }
   ],
   "source": [
    "numeros = [3, 5, 8]\n",
    "\n",
    "cuadrados = list(map(lambda x : x**2, numeros))\n",
    "\n",
    "print(cuadrados)"
   ]
  },
  {
   "cell_type": "markdown",
   "metadata": {
    "id": "POQezNAkXOBT"
   },
   "source": [
    "5. Utiliza filter() y una función lambda para filtrar los números pares de una lista."
   ]
  },
  {
   "cell_type": "code",
   "execution_count": 7,
   "metadata": {},
   "outputs": [
    {
     "name": "stdout",
     "output_type": "stream",
     "text": [
      "[2, 4, 10]\n"
     ]
    }
   ],
   "source": [
    "numeros = [2, 4, 7, 9, 10]\n",
    "\n",
    "pares = list(filter(lambda x : x%2 == 0, numeros))\n",
    "\n",
    "print(pares)"
   ]
  },
  {
   "cell_type": "markdown",
   "metadata": {
    "id": "XAiJQU2OXPuC"
   },
   "source": [
    "6. Utiliza reduce() y una función lambda para calcular el producto de todos los elementos de una lista."
   ]
  },
  {
   "cell_type": "code",
   "execution_count": 15,
   "metadata": {},
   "outputs": [
    {
     "name": "stdout",
     "output_type": "stream",
     "text": [
      "50\n"
     ]
    }
   ],
   "source": [
    "from functools import reduce\n",
    "\n",
    "numeros = [2, 5, 5]\n",
    "\n",
    "producto = reduce(lambda x, y : x*y, numeros)\n",
    "\n",
    "print(producto)"
   ]
  }
 ],
 "metadata": {
  "colab": {
   "authorship_tag": "ABX9TyPyNqRdC41LFWcXvcSnPXuA",
   "provenance": []
  },
  "kernelspec": {
   "display_name": "Python 3 (ipykernel)",
   "language": "python",
   "name": "python3"
  },
  "language_info": {
   "codemirror_mode": {
    "name": "ipython",
    "version": 3
   },
   "file_extension": ".py",
   "mimetype": "text/x-python",
   "name": "python",
   "nbconvert_exporter": "python",
   "pygments_lexer": "ipython3",
   "version": "3.12.4"
  }
 },
 "nbformat": 4,
 "nbformat_minor": 4
}

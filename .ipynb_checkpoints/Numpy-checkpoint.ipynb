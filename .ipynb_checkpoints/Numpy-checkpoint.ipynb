{
 "cells": [
  {
   "cell_type": "code",
   "execution_count": 1,
   "id": "8ca7dadd-6510-4cee-8d80-24db80c7c083",
   "metadata": {},
   "outputs": [],
   "source": [
    "import numpy as np"
   ]
  },
  {
   "cell_type": "markdown",
   "id": "b5bc76da-9487-424f-8b88-ef5a09a15e60",
   "metadata": {},
   "source": [
    "## Ejercicio 1\n",
    "\n",
    "Crea una array de numpy con los siguiente números primos: ```2, 3, 5, 7, 11, 13, 17, 19, 23, 29```"
   ]
  },
  {
   "cell_type": "code",
   "execution_count": 3,
   "id": "a2414466-7474-41aa-89ec-999db6ced12a",
   "metadata": {},
   "outputs": [],
   "source": [
    "a1 = np.array([2, 3, 5, 7, 11, 13, 17, 19, 23, 29])"
   ]
  },
  {
   "cell_type": "markdown",
   "id": "4adfade4-bb22-4fec-bbbf-797b8b5c087b",
   "metadata": {},
   "source": [
    "Muestra el último elemento. Y debes hacerlo sin saber su longitud."
   ]
  },
  {
   "cell_type": "code",
   "execution_count": 5,
   "id": "1f49781e-e1ad-4eac-a91c-f039793159e0",
   "metadata": {},
   "outputs": [
    {
     "name": "stdout",
     "output_type": "stream",
     "text": [
      "29\n"
     ]
    }
   ],
   "source": [
    "print(a1[-1])"
   ]
  },
  {
   "cell_type": "markdown",
   "id": "d23dc863-ce9e-4c77-a0b9-0efbbab28237",
   "metadata": {},
   "source": [
    "Muestra el 3º elemento"
   ]
  },
  {
   "cell_type": "code",
   "execution_count": 7,
   "id": "b3265070-82d0-4e90-96a2-a4ca70e3b270",
   "metadata": {},
   "outputs": [
    {
     "name": "stdout",
     "output_type": "stream",
     "text": [
      "5\n"
     ]
    }
   ],
   "source": [
    "print(a1[2])"
   ]
  },
  {
   "cell_type": "markdown",
   "id": "0078aade-0241-4a3d-a0f8-1a4ac0652abf",
   "metadata": {},
   "source": [
    "Muestra el último y 3º elemento."
   ]
  },
  {
   "cell_type": "code",
   "execution_count": 9,
   "id": "2463fc16-aac9-44d3-ab70-c2c81af450bd",
   "metadata": {},
   "outputs": [
    {
     "name": "stdout",
     "output_type": "stream",
     "text": [
      "29 5\n"
     ]
    }
   ],
   "source": [
    "print(a1[-1], a1[2])"
   ]
  },
  {
   "cell_type": "markdown",
   "id": "ccf6ec4d-b633-49cd-9da2-e315997f8dee",
   "metadata": {},
   "source": [
    "Muestra del 2º al 5º elemento."
   ]
  },
  {
   "cell_type": "code",
   "execution_count": 11,
   "id": "9bd68dab-b326-4e8b-af4e-c834b940d95f",
   "metadata": {},
   "outputs": [
    {
     "name": "stdout",
     "output_type": "stream",
     "text": [
      "[ 3  5  7 11]\n"
     ]
    }
   ],
   "source": [
    "print(a1[1:5])"
   ]
  },
  {
   "cell_type": "markdown",
   "id": "02c26dd2-72f9-45e7-b0c6-6ad5381ca444",
   "metadata": {},
   "source": [
    "Muestra el 2° y el 5° elemento"
   ]
  },
  {
   "cell_type": "code",
   "execution_count": 13,
   "id": "7016ae3e-bc6c-4b6b-8fff-5abe1bda6010",
   "metadata": {},
   "outputs": [
    {
     "name": "stdout",
     "output_type": "stream",
     "text": [
      "3 11\n"
     ]
    }
   ],
   "source": [
    "print(a1[1], a1[4])"
   ]
  },
  {
   "cell_type": "markdown",
   "id": "78a0bada-11c3-445a-857b-b9faaa2893e9",
   "metadata": {},
   "source": [
    "Muestra el último y el penúltimo elemento. Y debes hacerlo sin saber su longitud."
   ]
  },
  {
   "cell_type": "code",
   "execution_count": 15,
   "id": "0a0ad227-5b2b-4d22-81e6-42f65bf66a52",
   "metadata": {},
   "outputs": [
    {
     "name": "stdout",
     "output_type": "stream",
     "text": [
      "29 23\n"
     ]
    }
   ],
   "source": [
    "print(a1[-1], a1[-2])"
   ]
  },
  {
   "cell_type": "markdown",
   "id": "36bb12e9-b8d6-43e9-8812-1276d7a95c79",
   "metadata": {},
   "source": [
    "# Ejercicio 2 \n",
    "Crea una array de numpy con los siguiente números primos: ```2, 3, 5, 7, 11, 13, 17, 19, 23, 29``` pero que el array sea de tipo \"float\" de 32 bits."
   ]
  },
  {
   "cell_type": "code",
   "execution_count": 17,
   "id": "20424c28-1288-42e0-9f5a-e9d309e29a6e",
   "metadata": {},
   "outputs": [
    {
     "name": "stdout",
     "output_type": "stream",
     "text": [
      "[ 2.  3.  5.  7. 11. 13. 17. 19. 23. 29.]\n"
     ]
    }
   ],
   "source": [
    "a2_1 = np.array([2, 3, 5, 7, 11, 13, 17, 19, 23, 29], dtype=np.float32)\n",
    "print(a2_1)"
   ]
  },
  {
   "cell_type": "markdown",
   "id": "c62b2883-6af4-4e2d-8b2d-74e57b919dcf",
   "metadata": {},
   "source": [
    "Usando la función arange de numpy crea un array con los números del 100 al 200 pero sin incluir el 200. Muestra el resultado."
   ]
  },
  {
   "cell_type": "code",
   "execution_count": 19,
   "id": "eb0e52a9-d8ca-418c-a797-59034c42e168",
   "metadata": {},
   "outputs": [
    {
     "name": "stdout",
     "output_type": "stream",
     "text": [
      "[100 101 102 103 104 105 106 107 108 109 110 111 112 113 114 115 116 117\n",
      " 118 119 120 121 122 123 124 125 126 127 128 129 130 131 132 133 134 135\n",
      " 136 137 138 139 140 141 142 143 144 145 146 147 148 149 150 151 152 153\n",
      " 154 155 156 157 158 159 160 161 162 163 164 165 166 167 168 169 170 171\n",
      " 172 173 174 175 176 177 178 179 180 181 182 183 184 185 186 187 188 189\n",
      " 190 191 192 193 194 195 196 197 198 199]\n"
     ]
    }
   ],
   "source": [
    "a2_2 = np.arange(100, 200)\n",
    "print(a2_2)"
   ]
  },
  {
   "cell_type": "markdown",
   "id": "206be881-5e60-44a6-944b-a3cfcdfa3ad4",
   "metadata": {},
   "source": [
    "Usando la función range estándar de Python crea un array con los números del 100 al 200 pero sin incluir el 200. Muestra el resultado. ¿Qué diferencia hay con arange?"
   ]
  },
  {
   "cell_type": "code",
   "execution_count": 21,
   "id": "61a24cfe-73bd-4d35-99d6-a3a49e198395",
   "metadata": {},
   "outputs": [
    {
     "name": "stdout",
     "output_type": "stream",
     "text": [
      "[100, 101, 102, 103, 104, 105, 106, 107, 108, 109, 110, 111, 112, 113, 114, 115, 116, 117, 118, 119, 120, 121, 122, 123, 124, 125, 126, 127, 128, 129, 130, 131, 132, 133, 134, 135, 136, 137, 138, 139, 140, 141, 142, 143, 144, 145, 146, 147, 148, 149, 150, 151, 152, 153, 154, 155, 156, 157, 158, 159, 160, 161, 162, 163, 164, 165, 166, 167, 168, 169, 170, 171, 172, 173, 174, 175, 176, 177, 178, 179, 180, 181, 182, 183, 184, 185, 186, 187, 188, 189, 190, 191, 192, 193, 194, 195, 196, 197, 198, 199]\n"
     ]
    }
   ],
   "source": [
    "a2_3 = list(range(100, 200))\n",
    "print(a2_3)\n",
    "\n",
    "# Range crea una lista nativa de Python"
   ]
  },
  {
   "cell_type": "markdown",
   "id": "57813141-8d1b-47d2-83ae-79497ed458c3",
   "metadata": {},
   "source": [
    "# Ejercicio 3\n",
    "Crea la siguiente matriz: \n",
    "```python\n",
    "[[1, 4, 6, 5]\n",
    " [4, 1, 7, 3]\n",
    " [2, 9, 1, 2]\n",
    " [6, 3, 1, 1]]\n",
    "```"
   ]
  },
  {
   "cell_type": "code",
   "execution_count": 23,
   "id": "505ee60c-bbc9-4326-b547-11688ff9dac4",
   "metadata": {},
   "outputs": [],
   "source": [
    "a3 = np.array([[1, 4, 6, 5],[4, 1, 7, 3],[2, 9, 1, 2],[6, 3, 1, 1]])"
   ]
  },
  {
   "cell_type": "markdown",
   "id": "2c299d47-df76-454c-9240-01adc4c2a42f",
   "metadata": {},
   "source": [
    "Muestra el elemento de la fila 2º y la columna 3º. Es el valor del 7."
   ]
  },
  {
   "cell_type": "code",
   "execution_count": 25,
   "id": "44decbca-61ed-402e-987a-3ad6e897c9a6",
   "metadata": {},
   "outputs": [
    {
     "name": "stdout",
     "output_type": "stream",
     "text": [
      "7\n"
     ]
    }
   ],
   "source": [
    "print(a3[1, 2])"
   ]
  },
  {
   "cell_type": "markdown",
   "id": "63e2ef29-d0f1-46d2-85da-8708741d111e",
   "metadata": {},
   "source": [
    "Muestra la 3º Fila"
   ]
  },
  {
   "cell_type": "code",
   "execution_count": 27,
   "id": "207d0942-baba-4b97-affd-594c5aba0ca6",
   "metadata": {},
   "outputs": [
    {
     "name": "stdout",
     "output_type": "stream",
     "text": [
      "[4 1 7 3]\n"
     ]
    }
   ],
   "source": [
    "print(a3[1])"
   ]
  },
  {
   "cell_type": "markdown",
   "id": "07d2ffa0-4da8-4d77-a24b-371da7937a61",
   "metadata": {},
   "source": [
    "Muestra la 2º Columna"
   ]
  },
  {
   "cell_type": "code",
   "execution_count": 29,
   "id": "5b5ba0de-e55a-44ca-afbf-c54c39d52410",
   "metadata": {},
   "outputs": [
    {
     "name": "stdout",
     "output_type": "stream",
     "text": [
      "[4 1 9 3]\n"
     ]
    }
   ],
   "source": [
    "print(a3[:, 1])"
   ]
  },
  {
   "cell_type": "markdown",
   "id": "aeb55937-4af2-4886-915a-7419ab73e8af",
   "metadata": {},
   "source": [
    "Muestra la 2º y 3º Columna"
   ]
  },
  {
   "cell_type": "code",
   "execution_count": 31,
   "id": "87d64725-d1f3-4d6d-b026-7f2e32ddcaff",
   "metadata": {},
   "outputs": [
    {
     "name": "stdout",
     "output_type": "stream",
     "text": [
      "[[4 6]\n",
      " [1 7]\n",
      " [9 1]\n",
      " [3 1]]\n"
     ]
    }
   ],
   "source": [
    "print(a3[:, 1:3])"
   ]
  },
  {
   "cell_type": "markdown",
   "id": "6bfa7a13-4f29-45bb-b392-941846e022d4",
   "metadata": {},
   "source": [
    "Muestra la 2º y 3º Fila"
   ]
  },
  {
   "cell_type": "code",
   "execution_count": 33,
   "id": "982689ad-fc18-461c-8a82-d257190d19db",
   "metadata": {},
   "outputs": [
    {
     "name": "stdout",
     "output_type": "stream",
     "text": [
      "[[4 1 7 3]\n",
      " [2 9 1 2]]\n"
     ]
    }
   ],
   "source": [
    "print(a3[1:3])"
   ]
  },
  {
   "cell_type": "markdown",
   "id": "76b43c47-7c09-47ea-8296-7a55d8b8cb73",
   "metadata": {},
   "source": [
    "Muestra la última columna. Debe funcionar independientemente del número de columnas."
   ]
  },
  {
   "cell_type": "code",
   "execution_count": 35,
   "id": "039b9c88-e514-4292-847d-d38472c30f5a",
   "metadata": {},
   "outputs": [
    {
     "name": "stdout",
     "output_type": "stream",
     "text": [
      "[5 3 2 1]\n"
     ]
    }
   ],
   "source": [
    "print(a3[:, -1])"
   ]
  },
  {
   "cell_type": "markdown",
   "id": "cb328069-08b9-4171-95f8-9ff10545a67b",
   "metadata": {},
   "source": [
    "Muestra la 2º y 4º Columna y la 1º y 3º fila"
   ]
  },
  {
   "cell_type": "code",
   "execution_count": 37,
   "id": "d6c8a48c-e85e-451b-95ce-c9cceb82c05a",
   "metadata": {},
   "outputs": [
    {
     "name": "stdout",
     "output_type": "stream",
     "text": [
      "Columnas:\n",
      "[[4 5]\n",
      " [1 3]\n",
      " [9 2]\n",
      " [3 1]]\n",
      "Filas:\n",
      "[[1 4 6 5]\n",
      " [2 9 1 2]]\n"
     ]
    }
   ],
   "source": [
    "print(\"Columnas:\")\n",
    "print(a3[:,1:5:2])\n",
    "print(\"Filas:\")\n",
    "print(a3[:4:2, :])"
   ]
  },
  {
   "cell_type": "markdown",
   "id": "5cb59148-f7b7-4a24-8d47-18ff32f82f47",
   "metadata": {},
   "source": [
    "Muestra de la 2º a la 3º Columna y de la 1º a la 3º fila"
   ]
  },
  {
   "cell_type": "code",
   "execution_count": 39,
   "id": "95cc0dce-d565-44fe-933b-21fd93ff5f20",
   "metadata": {},
   "outputs": [
    {
     "name": "stdout",
     "output_type": "stream",
     "text": [
      "Columnas:\n",
      "[[4 6]\n",
      " [1 7]\n",
      " [9 1]\n",
      " [3 1]]\n",
      "Filas:\n",
      "[[1 4 6 5]\n",
      " [4 1 7 3]\n",
      " [2 9 1 2]]\n"
     ]
    }
   ],
   "source": [
    "print(\"Columnas:\")\n",
    "print(a3[:,1:3])\n",
    "print(\"Filas:\")\n",
    "print(a3[:3, :])"
   ]
  },
  {
   "cell_type": "markdown",
   "id": "ef621e62-935d-4ec1-884e-b5816901bf41",
   "metadata": {},
   "source": [
    "Muestra todas las columnas excepto la primera y la última. Debe funcionar independientemente del número de columnas."
   ]
  },
  {
   "cell_type": "code",
   "execution_count": 41,
   "id": "8de3f7d7-cb05-4b57-ac5d-e3cfabdd8a2b",
   "metadata": {},
   "outputs": [
    {
     "name": "stdout",
     "output_type": "stream",
     "text": [
      "[[4 6]\n",
      " [1 7]\n",
      " [9 1]\n",
      " [3 1]]\n"
     ]
    }
   ],
   "source": [
    "print(a3[:, 1:-1])"
   ]
  },
  {
   "cell_type": "markdown",
   "id": "e9642f31-6e23-4d9f-a16d-eda2af8f50bc",
   "metadata": {},
   "source": [
    "Muestra todas las filas excepto la primera y la última. Debe funcionar independientemente del número de filas."
   ]
  },
  {
   "cell_type": "code",
   "execution_count": 43,
   "id": "73b5b763-8607-465b-b976-2e9c848a2bfa",
   "metadata": {},
   "outputs": [
    {
     "name": "stdout",
     "output_type": "stream",
     "text": [
      "[[4 1 7 3]\n",
      " [2 9 1 2]]\n"
     ]
    }
   ],
   "source": [
    "print(a3[1:-1])"
   ]
  },
  {
   "cell_type": "markdown",
   "id": "0431d938-5857-4df5-b7f4-0b1d2317bddf",
   "metadata": {},
   "source": [
    "Muestra todas las columnas excepto la primera y la última y todas las filas excepto la primera y la última. Debe funcionar independientemente del número de filas y columnas."
   ]
  },
  {
   "cell_type": "code",
   "execution_count": 45,
   "id": "82be0ea5-04ff-42f6-9641-51593b587699",
   "metadata": {},
   "outputs": [
    {
     "name": "stdout",
     "output_type": "stream",
     "text": [
      "Columnas:\n",
      "[[4 6]\n",
      " [1 7]\n",
      " [9 1]\n",
      " [3 1]]\n",
      "Filas:\n",
      "[[4 1 7 3]\n",
      " [2 9 1 2]]\n"
     ]
    }
   ],
   "source": [
    "print(\"Columnas:\")\n",
    "print(a3[:, 1:-1])\n",
    "print(\"Filas:\")\n",
    "print(a3[1:-1])"
   ]
  },
  {
   "cell_type": "markdown",
   "id": "611eced6-a753-4e4b-bac4-5ae1225c4cdb",
   "metadata": {},
   "source": [
    "Imprime la matriz y haz que las cabeceras de cada columna sean A, B , C y D"
   ]
  },
  {
   "cell_type": "code",
   "execution_count": 47,
   "id": "e51df191-fd94-4ee4-8af6-b44544ef8c4a",
   "metadata": {},
   "outputs": [
    {
     "name": "stdout",
     "output_type": "stream",
     "text": [
      "  A B C D\n",
      "[[1 4 6 5]\n",
      " [4 1 7 3]\n",
      " [2 9 1 2]\n",
      " [6 3 1 1]]\n"
     ]
    }
   ],
   "source": [
    "# Definir las cabeceras\n",
    "headers = ['A', 'B', 'C', 'D']\n",
    "\n",
    "# Imprimir las cabeceras\n",
    "print('  ' + ' '.join(headers))\n",
    "\n",
    "# Imprimir las filas de la matriz\n",
    "print(a3)\n",
    "#for row in a3:\n",
    "    #print('  '.join(map(str, row)))"
   ]
  },
  {
   "cell_type": "markdown",
   "id": "71b7ff24-4e12-41c4-89cc-172fccb525c9",
   "metadata": {},
   "source": [
    "# Ejercicio 4\n",
    "El siguiente array contiene las temperaturas medias que ha hecho en Valencia en cada mes \n",
    "```python\n",
    "[10.2, 10.7, 13.3, 15.8, 19.3, 23.6, 26, 25.9, 22.8, 19.1, 13.9, 10.8]\n",
    "```"
   ]
  },
  {
   "cell_type": "code",
   "execution_count": 49,
   "id": "ce598fbc-9909-47bb-922c-a343f1b69521",
   "metadata": {},
   "outputs": [],
   "source": [
    "a4 = np.array([10.2, 10.7, 13.3, 15.8, 19.3, 23.6, 26, 25.9, 22.8, 19.1, 13.9, 10.8])"
   ]
  },
  {
   "cell_type": "markdown",
   "id": "f4a2dec0-0056-45aa-a774-b6291a259e56",
   "metadata": {},
   "source": [
    "Muestra las temperaturas cuyo valor sea mayor que 20"
   ]
  },
  {
   "cell_type": "code",
   "execution_count": 51,
   "id": "3e424682-56f3-44f1-8a79-c93542dca47e",
   "metadata": {},
   "outputs": [
    {
     "name": "stdout",
     "output_type": "stream",
     "text": [
      "[23.6 26.  25.9 22.8]\n"
     ]
    }
   ],
   "source": [
    "print(a4[a4 > 20])"
   ]
  },
  {
   "cell_type": "markdown",
   "id": "fea5ff2a-3b9f-42f1-862e-a3287e6847ea",
   "metadata": {},
   "source": [
    "Muestra las temperaturas cuyo valor sea menor que 11"
   ]
  },
  {
   "cell_type": "code",
   "execution_count": 53,
   "id": "628c4c63-1d37-4568-8a35-813aa9c598e9",
   "metadata": {},
   "outputs": [
    {
     "name": "stdout",
     "output_type": "stream",
     "text": [
      "[10.2 10.7 10.8]\n"
     ]
    }
   ],
   "source": [
    "print(a4[a4 < 11])"
   ]
  },
  {
   "cell_type": "markdown",
   "id": "dee7c26d-2776-43d8-a8ed-4303d2a50b87",
   "metadata": {},
   "source": [
    "Muestra las temperaturas cuyo valor sea mayor que 20 o menor que 11"
   ]
  },
  {
   "cell_type": "code",
   "execution_count": 55,
   "id": "31092e86-3392-4b38-95f2-c9fc48a1a59b",
   "metadata": {},
   "outputs": [
    {
     "name": "stdout",
     "output_type": "stream",
     "text": [
      "[10.2 10.7 23.6 26.  25.9 22.8 10.8]\n"
     ]
    }
   ],
   "source": [
    "print(a4[(a4 > 20) | (a4 < 11)])"
   ]
  },
  {
   "cell_type": "markdown",
   "id": "eb4357f4-68ec-4c4f-b9c0-3470f5b5bb2c",
   "metadata": {},
   "source": [
    "# Ejercicio 5\n",
    "Carga los datos de un dataset muy utilizado en la ciencia de datos con con el siguiente código:\n",
    "```python\n",
    "from sklearn.datasets import load_iris\n",
    "datos=load_iris().data\n",
    "resultado=load_iris().target\n",
    "```"
   ]
  },
  {
   "cell_type": "code",
   "execution_count": 57,
   "id": "48dcb83c-6ad5-4585-bf0a-b63589d9f6d0",
   "metadata": {},
   "outputs": [],
   "source": [
    "from sklearn.datasets import load_iris\n",
    "datos=load_iris().data\n",
    "resultado=load_iris().target"
   ]
  },
  {
   "cell_type": "markdown",
   "id": "83d2a853-0cd0-4367-b965-4195bc3b0f1d",
   "metadata": {},
   "source": [
    "Crea un array llamado sepal_length con las 99 primeras filas y la 1º columna de la matriz datos"
   ]
  },
  {
   "cell_type": "code",
   "execution_count": 59,
   "id": "8bf695f3-5512-4f49-96e9-2bd492a3f317",
   "metadata": {},
   "outputs": [
    {
     "name": "stdout",
     "output_type": "stream",
     "text": [
      "[5.1 4.9 4.7 4.6 5.  5.4 4.6 5.  4.4 4.9 5.4 4.8 4.8 4.3 5.8 5.7 5.4 5.1\n",
      " 5.7 5.1 5.4 5.1 4.6 5.1 4.8 5.  5.  5.2 5.2 4.7 4.8 5.4 5.2 5.5 4.9 5.\n",
      " 5.5 4.9 4.4 5.1 5.  4.5 4.4 5.  5.1 4.8 5.1 4.6 5.3 5.  7.  6.4 6.9 5.5\n",
      " 6.5 5.7 6.3 4.9 6.6 5.2 5.  5.9 6.  6.1 5.6 6.7 5.6 5.8 6.2 5.6 5.9 6.1\n",
      " 6.3 6.1 6.4 6.6 6.8 6.7 6.  5.7 5.5 5.5 5.8 6.  5.4 6.  6.7 6.3 5.6 5.5\n",
      " 5.5 6.1 5.8 5.  5.6 5.7 5.7 6.2 5.1]\n"
     ]
    }
   ],
   "source": [
    "sepal_length = datos[:99, 0]\n",
    "print(sepal_length)"
   ]
  },
  {
   "cell_type": "markdown",
   "id": "3793abf1-53f7-4ce1-adf3-b9bd3257dae2",
   "metadata": {},
   "source": [
    "Crea un array llamado petal_length con las 99 primeras filas y la 3º columna de la matriz datos"
   ]
  },
  {
   "cell_type": "code",
   "execution_count": 61,
   "id": "030b40f2-5f6f-4874-9d5a-4c61c18523bb",
   "metadata": {},
   "outputs": [
    {
     "name": "stdout",
     "output_type": "stream",
     "text": [
      "[1.4 1.4 1.3 1.5 1.4 1.7 1.4 1.5 1.4 1.5 1.5 1.6 1.4 1.1 1.2 1.5 1.3 1.4\n",
      " 1.7 1.5 1.7 1.5 1.  1.7 1.9 1.6 1.6 1.5 1.4 1.6 1.6 1.5 1.5 1.4 1.5 1.2\n",
      " 1.3 1.4 1.3 1.5 1.3 1.3 1.3 1.6 1.9 1.4 1.6 1.4 1.5 1.4 4.7 4.5 4.9 4.\n",
      " 4.6 4.5 4.7 3.3 4.6 3.9 3.5 4.2 4.  4.7 3.6 4.4 4.5 4.1 4.5 3.9 4.8 4.\n",
      " 4.9 4.7 4.3 4.4 4.8 5.  4.5 3.5 3.8 3.7 3.9 5.1 4.5 4.5 4.7 4.4 4.1 4.\n",
      " 4.4 4.6 4.  3.3 4.2 4.2 4.2 4.3 3. ]\n"
     ]
    }
   ],
   "source": [
    "petal_length = datos[:99, 2]\n",
    "print(petal_length)"
   ]
  },
  {
   "cell_type": "markdown",
   "id": "0a2e52b9-e490-4945-b9e6-4c796b808db4",
   "metadata": {},
   "source": [
    "Crea un array llamado x juntando las 2 columnas sepal_length y petal_length"
   ]
  },
  {
   "cell_type": "code",
   "execution_count": 63,
   "id": "d76c784a-e645-45b7-b421-66907ce23bd8",
   "metadata": {},
   "outputs": [
    {
     "name": "stdout",
     "output_type": "stream",
     "text": [
      "[5.1 4.9 4.7 4.6 5.  5.4 4.6 5.  4.4 4.9 5.4 4.8 4.8 4.3 5.8 5.7 5.4 5.1\n",
      " 5.7 5.1 5.4 5.1 4.6 5.1 4.8 5.  5.  5.2 5.2 4.7 4.8 5.4 5.2 5.5 4.9 5.\n",
      " 5.5 4.9 4.4 5.1 5.  4.5 4.4 5.  5.1 4.8 5.1 4.6 5.3 5.  7.  6.4 6.9 5.5\n",
      " 6.5 5.7 6.3 4.9 6.6 5.2 5.  5.9 6.  6.1 5.6 6.7 5.6 5.8 6.2 5.6 5.9 6.1\n",
      " 6.3 6.1 6.4 6.6 6.8 6.7 6.  5.7 5.5 5.5 5.8 6.  5.4 6.  6.7 6.3 5.6 5.5\n",
      " 5.5 6.1 5.8 5.  5.6 5.7 5.7 6.2 5.1 1.4 1.4 1.3 1.5 1.4 1.7 1.4 1.5 1.4\n",
      " 1.5 1.5 1.6 1.4 1.1 1.2 1.5 1.3 1.4 1.7 1.5 1.7 1.5 1.  1.7 1.9 1.6 1.6\n",
      " 1.5 1.4 1.6 1.6 1.5 1.5 1.4 1.5 1.2 1.3 1.4 1.3 1.5 1.3 1.3 1.3 1.6 1.9\n",
      " 1.4 1.6 1.4 1.5 1.4 4.7 4.5 4.9 4.  4.6 4.5 4.7 3.3 4.6 3.9 3.5 4.2 4.\n",
      " 4.7 3.6 4.4 4.5 4.1 4.5 3.9 4.8 4.  4.9 4.7 4.3 4.4 4.8 5.  4.5 3.5 3.8\n",
      " 3.7 3.9 5.1 4.5 4.5 4.7 4.4 4.1 4.  4.4 4.6 4.  3.3 4.2 4.2 4.2 4.3 3. ]\n"
     ]
    }
   ],
   "source": [
    "x = np.concatenate((sepal_length, petal_length))\n",
    "print(x)"
   ]
  },
  {
   "cell_type": "markdown",
   "id": "c9683af8-5ffb-4716-812c-3eb3e1494a6d",
   "metadata": {},
   "source": [
    "Crea un array llamado y con las 99 primeras filas del vector resultado"
   ]
  },
  {
   "cell_type": "code",
   "execution_count": 65,
   "id": "9feaa235-a365-4622-9eb1-2f510bd53812",
   "metadata": {},
   "outputs": [
    {
     "name": "stdout",
     "output_type": "stream",
     "text": [
      "[0 0 0 0 0 0 0 0 0 0 0 0 0 0 0 0 0 0 0 0 0 0 0 0 0 0 0 0 0 0 0 0 0 0 0 0 0\n",
      " 0 0 0 0 0 0 0 0 0 0 0 0 0 1 1 1 1 1 1 1 1 1 1 1 1 1 1 1 1 1 1 1 1 1 1 1 1\n",
      " 1 1 1 1 1 1 1 1 1 1 1 1 1 1 1 1 1 1 1 1 1 1 1 1 1]\n"
     ]
    }
   ],
   "source": [
    "y = resultado[:99]\n",
    "print(y)"
   ]
  },
  {
   "cell_type": "markdown",
   "id": "f80a12b0-2982-4919-96e2-252cfd478b20",
   "metadata": {},
   "source": [
    "Crea un array llamado z con las 99 primeras filas , la 1º columna y la 3º columna de la matriz datos."
   ]
  },
  {
   "cell_type": "code",
   "execution_count": 67,
   "id": "6286be46-704f-4755-b619-f1578952501c",
   "metadata": {
    "scrolled": true
   },
   "outputs": [
    {
     "name": "stdout",
     "output_type": "stream",
     "text": [
      "[[5.1 1.4]\n",
      " [4.9 1.4]\n",
      " [4.7 1.3]\n",
      " [4.6 1.5]\n",
      " [5.  1.4]\n",
      " [5.4 1.7]\n",
      " [4.6 1.4]\n",
      " [5.  1.5]\n",
      " [4.4 1.4]\n",
      " [4.9 1.5]\n",
      " [5.4 1.5]\n",
      " [4.8 1.6]\n",
      " [4.8 1.4]\n",
      " [4.3 1.1]\n",
      " [5.8 1.2]\n",
      " [5.7 1.5]\n",
      " [5.4 1.3]\n",
      " [5.1 1.4]\n",
      " [5.7 1.7]\n",
      " [5.1 1.5]\n",
      " [5.4 1.7]\n",
      " [5.1 1.5]\n",
      " [4.6 1. ]\n",
      " [5.1 1.7]\n",
      " [4.8 1.9]\n",
      " [5.  1.6]\n",
      " [5.  1.6]\n",
      " [5.2 1.5]\n",
      " [5.2 1.4]\n",
      " [4.7 1.6]\n",
      " [4.8 1.6]\n",
      " [5.4 1.5]\n",
      " [5.2 1.5]\n",
      " [5.5 1.4]\n",
      " [4.9 1.5]\n",
      " [5.  1.2]\n",
      " [5.5 1.3]\n",
      " [4.9 1.4]\n",
      " [4.4 1.3]\n",
      " [5.1 1.5]\n",
      " [5.  1.3]\n",
      " [4.5 1.3]\n",
      " [4.4 1.3]\n",
      " [5.  1.6]\n",
      " [5.1 1.9]\n",
      " [4.8 1.4]\n",
      " [5.1 1.6]\n",
      " [4.6 1.4]\n",
      " [5.3 1.5]\n",
      " [5.  1.4]\n",
      " [7.  4.7]\n",
      " [6.4 4.5]\n",
      " [6.9 4.9]\n",
      " [5.5 4. ]\n",
      " [6.5 4.6]\n",
      " [5.7 4.5]\n",
      " [6.3 4.7]\n",
      " [4.9 3.3]\n",
      " [6.6 4.6]\n",
      " [5.2 3.9]\n",
      " [5.  3.5]\n",
      " [5.9 4.2]\n",
      " [6.  4. ]\n",
      " [6.1 4.7]\n",
      " [5.6 3.6]\n",
      " [6.7 4.4]\n",
      " [5.6 4.5]\n",
      " [5.8 4.1]\n",
      " [6.2 4.5]\n",
      " [5.6 3.9]\n",
      " [5.9 4.8]\n",
      " [6.1 4. ]\n",
      " [6.3 4.9]\n",
      " [6.1 4.7]\n",
      " [6.4 4.3]\n",
      " [6.6 4.4]\n",
      " [6.8 4.8]\n",
      " [6.7 5. ]\n",
      " [6.  4.5]\n",
      " [5.7 3.5]\n",
      " [5.5 3.8]\n",
      " [5.5 3.7]\n",
      " [5.8 3.9]\n",
      " [6.  5.1]\n",
      " [5.4 4.5]\n",
      " [6.  4.5]\n",
      " [6.7 4.7]\n",
      " [6.3 4.4]\n",
      " [5.6 4.1]\n",
      " [5.5 4. ]\n",
      " [5.5 4.4]\n",
      " [6.1 4.6]\n",
      " [5.8 4. ]\n",
      " [5.  3.3]\n",
      " [5.6 4.2]\n",
      " [5.7 4.2]\n",
      " [5.7 4.2]\n",
      " [6.2 4.3]\n",
      " [5.1 3. ]]\n"
     ]
    }
   ],
   "source": [
    "z = datos[:99,::2]\n",
    "print(z)"
   ]
  },
  {
   "cell_type": "markdown",
   "id": "52917679-2951-4483-a68d-f2dbaf5efe32",
   "metadata": {},
   "source": [
    "# Ejercicio 6\n",
    "Selecciona las celdas en rojo oscuro de la siguiente matriz:\n",
    "\n",
    "![Matriz 1](./matriz1.png)\n",
    "\n",
    "```\n",
    "[[ 1  2  3  4  5  6  7  8]\n",
    " [ 9 10 11 12 13 14 15 16]\n",
    " [17 18 19 20 21 22 23 24]\n",
    " [25 26 27 28 29 30 31 32]\n",
    " [33 34 35 36 37 38 39 40]\n",
    " [41 42 43 44 45 46 47 48]\n",
    " [49 50 51 52 53 54 55 56]]\n",
    "```"
   ]
  },
  {
   "cell_type": "code",
   "execution_count": 69,
   "id": "be46f17c-72bc-4db6-9e5b-f90a577a5e83",
   "metadata": {},
   "outputs": [
    {
     "name": "stdout",
     "output_type": "stream",
     "text": [
      "[[19 20 21 22]\n",
      " [27 28 29 30]\n",
      " [35 36 37 38]]\n"
     ]
    }
   ],
   "source": [
    "a6 = np.arange(1, 57)\n",
    "a6 = a6.reshape(7, 8)\n",
    "\n",
    "print(a6[2:5, 2:6])"
   ]
  },
  {
   "cell_type": "markdown",
   "id": "9e630be0-98f5-4648-a124-d500240d5e8f",
   "metadata": {},
   "source": [
    "# Ejercicio 7\n",
    "Selecciona las celdas en rojo oscuro de la siguiente matriz:\n",
    "\n",
    "![Matriz 2](./matriz2.png)\n",
    "\n",
    "```\n",
    "[[[  1   2   3   4   5   6   7   8]\n",
    "  [  9  10  11  12  13  14  15  16]\n",
    "  [ 17  18  19  20  21  22  23  24]\n",
    "  [ 25  26  27  28  29  30  31  32]\n",
    "  [ 33  34  35  36  37  38  39  40]\n",
    "  [ 41  42  43  44  45  46  47  48]\n",
    "  [ 49  50  51  52  53  54  55  56]]\n",
    "\n",
    " [[ 57  58  59  60  61  62  63  64]\n",
    "  [ 65  66  67  68  69  70  71  72]\n",
    "  [ 73  74  75  76  77  78  79  80]\n",
    "  [ 81  82  83  84  85  86  87  88]\n",
    "  [ 89  90  91  92  93  94  95  96]\n",
    "  [ 97  98  99 100 101 102 103 104]\n",
    "  [105 106 107 108 109 110 111 112]]\n",
    "\n",
    " [[113 114 115 116 117 118 119 120]\n",
    "  [121 122 123 124 125 126 127 128]\n",
    "  [129 130 131 132 133 134 135 136]\n",
    "  [137 138 139 140 141 142 143 144]\n",
    "  [145 146 147 148 149 150 151 152]\n",
    "  [153 154 155 156 157 158 159 160]\n",
    "  [161 162 163 164 165 166 167 168]]]\n",
    "```"
   ]
  },
  {
   "cell_type": "code",
   "execution_count": 71,
   "id": "3c3c9de6-bd5b-4ef8-98df-348f12f7a8cc",
   "metadata": {},
   "outputs": [
    {
     "name": "stdout",
     "output_type": "stream",
     "text": [
      "[[19 20 21 22]\n",
      " [27 28 29 30]\n",
      " [35 36 37 38]]\n"
     ]
    }
   ],
   "source": [
    "a7 = np.arange(1, 169)\n",
    "a7 = a7.reshape(3, 7, 8)\n",
    "\n",
    "print(a7[0, 2:5, 2:6])"
   ]
  },
  {
   "cell_type": "markdown",
   "id": "06757238-ddf9-42b3-b0c1-6791d58e419f",
   "metadata": {},
   "source": [
    "Ahora selecciona las celdas en rojo oscuro pero también las verdes y azules que hay por detrás de las rojo oscuro."
   ]
  },
  {
   "cell_type": "code",
   "execution_count": 73,
   "id": "dd022c3a-9edd-41f7-abaa-b7b6ed6ae2ba",
   "metadata": {},
   "outputs": [
    {
     "name": "stdout",
     "output_type": "stream",
     "text": [
      "[[[ 19  20  21  22]\n",
      "  [ 27  28  29  30]\n",
      "  [ 35  36  37  38]]\n",
      "\n",
      " [[ 75  76  77  78]\n",
      "  [ 83  84  85  86]\n",
      "  [ 91  92  93  94]]\n",
      "\n",
      " [[131 132 133 134]\n",
      "  [139 140 141 142]\n",
      "  [147 148 149 150]]]\n"
     ]
    }
   ],
   "source": [
    "print(a7[:, 2:5, 2:6])"
   ]
  },
  {
   "cell_type": "markdown",
   "id": "12601a48-1c5c-43b3-9b16-199e2dd5d6dd",
   "metadata": {},
   "source": [
    "# Ejercicio 8\n",
    "Crea la siguiente matriz:\n",
    "```python\n",
    "[[1, 4, 6, 5]\n",
    " [4, 1, 7, 3]\n",
    " [2, 9, 1, 2]\n",
    " [6, 3, 1, 1]]\n",
    "```"
   ]
  },
  {
   "cell_type": "code",
   "execution_count": 75,
   "id": "8fa65768-624d-4e09-86d8-e42eb1fcf430",
   "metadata": {},
   "outputs": [],
   "source": [
    "a8 = np.array([[1, 4, 6, 5],[4, 1, 7, 3],[2, 9, 1, 2],[6, 3, 1, 1]])"
   ]
  },
  {
   "cell_type": "markdown",
   "id": "188dae3d-73ba-4e86-8a27-41a6870f2f51",
   "metadata": {},
   "source": [
    "A todos los elementos de la matriz sumale un 10. Usando las funciones de numpy"
   ]
  },
  {
   "cell_type": "code",
   "execution_count": 77,
   "id": "9abf1684-08ce-4ba5-9a2d-251afcc5b4b1",
   "metadata": {},
   "outputs": [
    {
     "name": "stdout",
     "output_type": "stream",
     "text": [
      "[[11 14 16 15]\n",
      " [14 11 17 13]\n",
      " [12 19 11 12]\n",
      " [16 13 11 11]]\n"
     ]
    }
   ],
   "source": [
    "print(np.add(a8, 10))"
   ]
  },
  {
   "cell_type": "markdown",
   "id": "e6fb6975-cf9e-4ba5-8bfd-bc1abc77f7ed",
   "metadata": {},
   "source": [
    "A todos los elementos de la matriz sumale un 10 y divídelos entre 2. Usando las funciones de numpy"
   ]
  },
  {
   "cell_type": "code",
   "execution_count": 139,
   "id": "b9d9cac1-66b5-4c5a-a269-46d7c17c41ff",
   "metadata": {},
   "outputs": [
    {
     "name": "stdout",
     "output_type": "stream",
     "text": [
      "[[5.5 7.  8.  7.5]\n",
      " [7.  5.5 8.5 6.5]\n",
      " [6.  9.5 5.5 6. ]\n",
      " [8.  6.5 5.5 5.5]]\n"
     ]
    }
   ],
   "source": [
    "print(np.divide(np.add(a8, 10), 2))"
   ]
  },
  {
   "cell_type": "markdown",
   "id": "be4d2769-2abd-41ce-8128-ee09bcb4d979",
   "metadata": {},
   "source": [
    "A todos los elementos de la matriz sumale un 10. Usando operadores"
   ]
  },
  {
   "cell_type": "code",
   "execution_count": 142,
   "id": "2e48565b-5f8e-47a0-9a62-7e6e9280ea9b",
   "metadata": {},
   "outputs": [
    {
     "name": "stdout",
     "output_type": "stream",
     "text": [
      "[[11 14 16 15]\n",
      " [14 11 17 13]\n",
      " [12 19 11 12]\n",
      " [16 13 11 11]]\n"
     ]
    }
   ],
   "source": [
    "print(a8 + 10)"
   ]
  },
  {
   "cell_type": "markdown",
   "id": "baa2b968-0d42-4285-92bc-db9b35a8a054",
   "metadata": {},
   "source": [
    "A todos los elementos de la matriz sumale un 10 y divídelos entre 2. Usando operadores"
   ]
  },
  {
   "cell_type": "code",
   "execution_count": 145,
   "id": "55035d92-98d7-482f-931e-77f0fda325e1",
   "metadata": {},
   "outputs": [
    {
     "name": "stdout",
     "output_type": "stream",
     "text": [
      "[[5.5 7.  8.  7.5]\n",
      " [7.  5.5 8.5 6.5]\n",
      " [6.  9.5 5.5 6. ]\n",
      " [8.  6.5 5.5 5.5]]\n"
     ]
    }
   ],
   "source": [
    "print((a8 +10)/2)"
   ]
  },
  {
   "cell_type": "markdown",
   "id": "1f832a8a-6e7e-43be-aef3-00ef1f5cf2df",
   "metadata": {},
   "source": [
    "# Ejercicio 9\n",
    "Crea la siguiente matriz\n",
    "```python\n",
    "[[1, 2, 3]\n",
    " [4, 5, 6]\n",
    " [7, 8, 9]]\n",
    "```\n",
    "\n",
    "Multiplica cada elemento de la matriz por sí mismo\n",
    "Multiplica la matriz por sí misma"
   ]
  },
  {
   "cell_type": "markdown",
   "id": "0fa97060-085f-4e75-8173-5d5c5e3c6aa4",
   "metadata": {},
   "source": [
    "# Ejercicio 10\n",
    "Crea una función llamada f que acepte como parámetro el número y que retorne el valor multiplicado por 2 y además que se le sume 1.\n",
    "Crea ahora el vector de numpy [1,5,4,7,3,9,8,6] y aplícale la función f"
   ]
  },
  {
   "cell_type": "markdown",
   "id": "319dfa2c-a89e-4dd3-acfe-397e47f12cbb",
   "metadata": {},
   "source": [
    "# Ejercicio 11\n",
    "Crea una función llamada f que acepte como parámetro el número y que retorne lo siguiente:\n",
    "Si es valor está en el rango (-inf,3] que retorne 0\n",
    "Si es valor está en el rango [3,5] que retorne 4\n",
    "Si es valor está en el rango [5,6] que retorne 5\n",
    "Si es valor está en el rango [6,7] que retorne 6\n",
    "Si es valor está en el rango [7,9] que retorne 8\n",
    "Si es valor está en el rango [9,+inf) que retorne 10\n",
    "Crea ahora el vector de numpy [1,5,4,7,3,9,8,6] y aplícale la función f"
   ]
  },
  {
   "cell_type": "markdown",
   "id": "f85a5ecb-9d76-4335-ad57-788d80927489",
   "metadata": {},
   "source": [
    "# Ejercicio 12\n",
    "Muestra con numpy el número de dimensiones de los siguientes arrays:\n",
    "\n",
    "\n",
    "a=[2, 3, 5, 7, 11, 13, 17, 19, 23, 29, 31, 37]\n",
    "\n",
    "\n",
    "\n",
    "\n",
    "b=[[2, 3], [5, 7], [11, 13], [17, 19], [23, 29], [31, 37]]\n",
    "\n",
    "\n",
    "\n",
    "\n",
    "c=[[[2, 3], [5, 7]], [[11, 13], [17, 19]], [[23, 29], [31, 37]]]"
   ]
  },
  {
   "cell_type": "markdown",
   "id": "234bb07b-e792-4d8d-8149-1a8214fca7c8",
   "metadata": {},
   "source": [
    "# Ejercicio 13: Forma\n",
    "Crea una función llamada mostrar_tamanyo que le pasemos un array de numpy y nos imprima el tamaño de cada una de las dimensiones. \n",
    "Por ejemplo con el array [ [ [2, 3], [5, 7]], [ [11, 13], [17, 19]], [ [23, 29], [31, 37] ] ] deberá mostrar\n",
    "El nº de elementos de la dimension 0 es 3\n",
    "El nº de elementos de la dimension 1 es 2\n",
    "El nº de elementos de la dimension 2 es 2\n",
    "\n",
    "Prueba también con los siguientes arrays\n",
    "\n",
    "\n",
    "a=[2, 3, 5, 7, 11, 13, 17, 19, 23, 29, 31, 37]\n",
    "\n",
    "\n",
    "\n",
    "\n",
    "b=[[2, 3], [5, 7], [11, 13], [17, 19], [23, 29], [31, 37]]\n",
    "\n",
    "\n",
    "\n",
    "\n",
    "c=[[[2, 3], [5, 7]], [[11, 13], [17, 19]], [[23, 29], [31, 37]]]"
   ]
  },
  {
   "cell_type": "markdown",
   "id": "7debe1fd-e5d7-466c-b42e-9e1da4093f1a",
   "metadata": {},
   "source": [
    "# Ejercicio 14\n",
    "Muestra con numpy el tipo de datos de los siguientes arrays:\n",
    "\n",
    "\n",
    "a=[2, 3, 5]\n",
    "\n",
    "\n",
    "\n",
    "\n",
    "b=[2.4, 3.2, 5.6]\n",
    "\n",
    "\n",
    "\n",
    "\n",
    "c=[2, 3, 5.6]"
   ]
  },
  {
   "cell_type": "markdown",
   "id": "617209dd-36a3-4851-b718-d6d5276e349f",
   "metadata": {},
   "source": [
    "# Ejercicio 15\n",
    "Transforma el siguiente array en 8 bits sin signo y muestra cuánto ocupa en memoria\n",
    "\n",
    "\n",
    "a=np.array([1, -2, 3])\n",
    "\n",
    "\n",
    "Transforma el siguiente array en 8 bits sin signo y muestra cuánto ocupa en memoria\n",
    "\n",
    "\n",
    "b=np.array([1,254,255])\n",
    "\n",
    "\n",
    "Transforma el siguiente array en 8 bits con signo y muestra cuánto ocupa en memoria\n",
    "\n",
    "\n",
    "b=np.array([1,127,128])\n",
    "\n",
    "\n",
    "Transforma el siguiente array en 8 bits con signo y muestra cuánto ocupa en memoria\n",
    "\n",
    "\n",
    "b=np.array([1,-128,-129])\n",
    "\n",
    "Transforma el siguiente array en float32 y muestra cuanto ocupa en memoria\n",
    "\n",
    "\n",
    "b=np.array([1,2,3])\n",
    "\n",
    "\n",
    "Transforma el siguiente array en int32 y muestra cuánto ocupa en memoria\n",
    "\n",
    "\n",
    "b=np.array([1.9,2.01,3.51])"
   ]
  },
  {
   "cell_type": "markdown",
   "id": "823db2ba-056a-4b4b-9ff7-d442fb4f1a32",
   "metadata": {},
   "source": [
    "# Ejercicio 16\n",
    "En ejercicios anteriores obtuviste para el problema de las flores, una matriz x y un vector y.\n",
    "Une los datos en una nueva matriz de forma que cada fila de la nueva matriz contenga los datos de cada fila de la x y el dato correspondiente de la y."
   ]
  },
  {
   "cell_type": "markdown",
   "id": "71b561dc-0a58-46ac-a71d-55ab588bb14f",
   "metadata": {},
   "source": [
    "# Ejercicio 17\n",
    "Dado el siguiente código python:\n",
    "\n",
    "```python\n",
    "import matplotlib.pyplot as plt\n",
    "import numpy as np\n",
    "figure=plt.figure(figsize=(8,8))\n",
    "axes = figure.add_subplot()\n",
    "x=[-3,-2,-1,0,1,2,3]\n",
    "y =  3*(1 - x)**2 * np.exp(-x**2 )  - 10*(x/5 - x**3 )*np.exp(-x**2 ) - 1./3*np.exp(-(x + 1)**2 )\n",
    "axes.plot(x,y)\n",
    "```\n",
    "\n",
    "\n",
    "Modifica el código que genera la variable x para que sea un array de numpy y de tipo float. Muestra la imagen\n",
    "Modifica el código que genera la variable x para que sean 10 valores entre el [-3,3]. Muestra la imagen\n",
    "Modifica el código que genera la variable x para que sean 20 valores entre el [-3,3]. Muestra la imagen\n",
    "Modifica el código que genera la variable x para que sean 40 valores entre el [-3,3]. Muestra la imagen\n",
    "Modifica el código que genera la variable x para que sean 60 valores entre el [-3,3]. Muestra la imagen\n",
    "Modifica el código que genera la variable x para que sean 100 valores entre el [-3,3]. Muestra la imagen"
   ]
  },
  {
   "cell_type": "markdown",
   "id": "a64f6880-6766-438d-877b-3cb31ad71d3c",
   "metadata": {},
   "source": [
    "# Ejercicio 18\n",
    "Carga con numpy el fichero wine.csv que contiene una matriz de números separados por coma.\n",
    "\n",
    "La matriz contiene una serie de columnas con características del vino y la última columna indica el tipo del vino.\n",
    "Crea una función en python llamada imprimir_datos y tendrá como parámetro una matriz de numpy de forma que:\n",
    "Imprima cuantas características tenemos de cada tipo de vino.\n",
    "Imprima cuantas muestra de vino tenemos\n",
    "Imprima cuantos tipos distintos de vino tenemos y cuales son\n",
    "Imprima los valores máximos y mínimos de cada característica\n",
    "Retorna una nueva matriz llamada x solo con las características y un nuevo array llamado y solo con los tipos de vino\n",
    "Llama a la función imprimir_datos con los datos de wine.csv"
   ]
  },
  {
   "cell_type": "markdown",
   "id": "1eb73e61-eb65-4d12-b50a-3874365da9be",
   "metadata": {},
   "source": [
    "# Ejercicio 19\n",
    "\n",
    "Tienes los datos de las ventas diarias de una tienda durante un año. Los datos incluyen ventas anormalmente altas debido a días festivos o promociones. El objetivo es limpiar los datos eliminando estos valores atípicos y analizar la tendencia general de ventas.\n",
    "\n",
    "\n",
    "```python\n",
    "np.random.seed(0)\n",
    "# Ventas diarias simuladas con media 500 y desviación estándar 50\n",
    "sales_data = np.random.normal(500, 50, 365)  \n",
    "# Ventas atípicas por promociones\n",
    "sales_data[[50, 120, 180, 250, 300]] = [1500, 1400, 1600, 1700, 1800]  \n",
    "```\n",
    "\n",
    "\n",
    "Detecta y elimina los valores atípicos (aquellos que están fuera de 3 desviaciones estándar del promedio).\n",
    "Calcula el promedio, la mediana y la desviación estándar de las ventas después de limpiar los datos.\n",
    "Genera una vista de las ventas de cada trimestre (3 primeros meses, 3 siguientes, etc.).\n",
    "Encuentra los 5 días con las ventas más bajas después de la limpieza de los datos."
   ]
  },
  {
   "cell_type": "markdown",
   "id": "77327e70-7fc9-494c-b1b1-c3cc8dddef98",
   "metadata": {},
   "source": [
    "# Ejercicio 20\n",
    "\n",
    "Tienes un conjunto de datos que contiene información demográfica de varias personas, incluyendo edad, ingresos anuales, y nivel de educación. El objetivo es realizar un análisis y encontrar patrones significativos entre estas variables.\n",
    "\n",
    "```python\n",
    "np.random.seed(3)\n",
    "ages = np.random.randint(18, 70, size=200)  # Edades de 200 personas\n",
    "income = np.random.normal(50000, 15000, size=200)  # Ingresos anuales en un rango normal alrededor de 50,000\n",
    "education_years = np.random.randint(0, 20, size=200)  # Años de educación formal\n",
    "```\n",
    "\n",
    "Calcula la correlación entre los años de educación y los ingresos.\n",
    "Divide a las personas en grupos de edades (18-30, 31-45, 46-60, 61+) y calcula el ingreso promedio por grupo.\n",
    "Encuentra el percentil 90 de ingresos y determina cuántas personas ganan por encima de ese valor.\n",
    "Agrupa los datos en función del número de años de educación y calcula el promedio de ingresos para cada grupo.\n",
    "\n",
    "Para calcular la correlación utiliza la función corrcoef.\n",
    "\n",
    "Para encontrar el percentil 90 utiliza la función percentile."
   ]
  },
  {
   "cell_type": "code",
   "execution_count": null,
   "id": "69fa6e08-4d66-40d1-8f7b-b6405b9eed9a",
   "metadata": {},
   "outputs": [],
   "source": []
  }
 ],
 "metadata": {
  "kernelspec": {
   "display_name": "Python 3 (ipykernel)",
   "language": "python",
   "name": "python3"
  },
  "language_info": {
   "codemirror_mode": {
    "name": "ipython",
    "version": 3
   },
   "file_extension": ".py",
   "mimetype": "text/x-python",
   "name": "python",
   "nbconvert_exporter": "python",
   "pygments_lexer": "ipython3",
   "version": "3.12.4"
  }
 },
 "nbformat": 4,
 "nbformat_minor": 5
}

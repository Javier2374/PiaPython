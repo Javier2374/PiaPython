{
 "cells": [
  {
   "cell_type": "code",
   "execution_count": 40,
   "id": "8ca7dadd-6510-4cee-8d80-24db80c7c083",
   "metadata": {},
   "outputs": [],
   "source": [
    "import numpy as np"
   ]
  },
  {
   "cell_type": "markdown",
   "id": "5322a7e6-b359-48f9-abe3-2626423d67f1",
   "metadata": {},
   "source": [
    "## Ejercicio 1\n",
    "\n",
    "**Crea una array de numpy con los siguiente números primos: 2, 3, 5, 7, 11, 13, 17, 19, 23, 29**\n",
    "\n",
    "Muestra el último elemento. Y debes hacerlo sin saber su longitud."
   ]
  },
  {
   "cell_type": "code",
   "execution_count": 43,
   "id": "1f49781e-e1ad-4eac-a91c-f039793159e0",
   "metadata": {},
   "outputs": [
    {
     "name": "stdout",
     "output_type": "stream",
     "text": [
      "29\n"
     ]
    }
   ],
   "source": [
    "a1 = np.array([2, 3, 5, 7, 11, 13, 17, 19, 23, 29])\n",
    "print(a1[-1])"
   ]
  },
  {
   "cell_type": "markdown",
   "id": "d23dc863-ce9e-4c77-a0b9-0efbbab28237",
   "metadata": {},
   "source": [
    "Muestra el 3º elemento"
   ]
  },
  {
   "cell_type": "code",
   "execution_count": 46,
   "id": "b3265070-82d0-4e90-96a2-a4ca70e3b270",
   "metadata": {},
   "outputs": [
    {
     "name": "stdout",
     "output_type": "stream",
     "text": [
      "5\n"
     ]
    }
   ],
   "source": [
    "print(a1[2])"
   ]
  },
  {
   "cell_type": "markdown",
   "id": "0078aade-0241-4a3d-a0f8-1a4ac0652abf",
   "metadata": {},
   "source": [
    "Muestra el último y 3º elemento."
   ]
  },
  {
   "cell_type": "code",
   "execution_count": 28,
   "id": "2463fc16-aac9-44d3-ab70-c2c81af450bd",
   "metadata": {},
   "outputs": [
    {
     "name": "stdout",
     "output_type": "stream",
     "text": [
      "29 5\n"
     ]
    }
   ],
   "source": [
    "print(a1[-1], a1[2])"
   ]
  },
  {
   "cell_type": "markdown",
   "id": "ccf6ec4d-b633-49cd-9da2-e315997f8dee",
   "metadata": {},
   "source": [
    "Muestra del 2º al 5º elemento."
   ]
  },
  {
   "cell_type": "code",
   "execution_count": 32,
   "id": "9bd68dab-b326-4e8b-af4e-c834b940d95f",
   "metadata": {},
   "outputs": [
    {
     "name": "stdout",
     "output_type": "stream",
     "text": [
      "[ 3  5  7 11]\n"
     ]
    }
   ],
   "source": [
    "print(a1[1:5])"
   ]
  },
  {
   "cell_type": "markdown",
   "id": "02c26dd2-72f9-45e7-b0c6-6ad5381ca444",
   "metadata": {},
   "source": [
    "Muestra el 2° y el 5° elemento"
   ]
  },
  {
   "cell_type": "code",
   "execution_count": 34,
   "id": "7016ae3e-bc6c-4b6b-8fff-5abe1bda6010",
   "metadata": {},
   "outputs": [
    {
     "name": "stdout",
     "output_type": "stream",
     "text": [
      "3 11\n"
     ]
    }
   ],
   "source": [
    "print(a1[1], a1[4])"
   ]
  },
  {
   "cell_type": "markdown",
   "id": "78a0bada-11c3-445a-857b-b9faaa2893e9",
   "metadata": {},
   "source": [
    "Muestra el último y el penúltimo elemento. Y debes hacerlo sin saber su longitud."
   ]
  },
  {
   "cell_type": "code",
   "execution_count": 36,
   "id": "0a0ad227-5b2b-4d22-81e6-42f65bf66a52",
   "metadata": {},
   "outputs": [
    {
     "name": "stdout",
     "output_type": "stream",
     "text": [
      "29 23\n"
     ]
    }
   ],
   "source": [
    "print(a1[-1], a1[-2])"
   ]
  },
  {
   "cell_type": "markdown",
   "id": "36bb12e9-b8d6-43e9-8812-1276d7a95c79",
   "metadata": {},
   "source": [
    "# Ejercicio 2 \n",
    "Crea una array de numpy con los siguiente números primos: 2, 3, 5, 7, 11, 13, 17, 19, 23, 29 pero que el array sea de tipo \"float\" de 32 bits."
   ]
  },
  {
   "cell_type": "code",
   "execution_count": null,
   "id": "20424c28-1288-42e0-9f5a-e9d309e29a6e",
   "metadata": {},
   "outputs": [],
   "source": [
    "a2 = np.array([2, 3, 5, 7, 11, 13, 17, 19, 23, 29])"
   ]
  },
  {
   "cell_type": "markdown",
   "id": "c62b2883-6af4-4e2d-8b2d-74e57b919dcf",
   "metadata": {},
   "source": [
    "Usando la función arange de numpy crea un array con los números del 100 al 200 pero sin incluir el 200. Muestra el resultado."
   ]
  },
  {
   "cell_type": "code",
   "execution_count": null,
   "id": "eb0e52a9-d8ca-418c-a797-59034c42e168",
   "metadata": {},
   "outputs": [],
   "source": []
  },
  {
   "cell_type": "markdown",
   "id": "206be881-5e60-44a6-944b-a3cfcdfa3ad4",
   "metadata": {},
   "source": [
    "Usando la función range estándar de Python crea un array con los números del 100 al 200 pero sin incluir el 200. Muestra el resultado. ¿Qué diferencia hay con arange?"
   ]
  },
  {
   "cell_type": "markdown",
   "id": "ad9f0948-492c-47ac-bd9d-6eb790327479",
   "metadata": {},
   "source": [
    "# Ejercicio 3\n",
    "Crea la siguiente matriz:\n",
    "\n",
    "Muestra el elemento de la fila 2º y la columna 3º. Es el valor del 7."
   ]
  },
  {
   "cell_type": "markdown",
   "id": "63e2ef29-d0f1-46d2-85da-8708741d111e",
   "metadata": {},
   "source": [
    "Muestra la 3º Fila"
   ]
  },
  {
   "cell_type": "markdown",
   "id": "07d2ffa0-4da8-4d77-a24b-371da7937a61",
   "metadata": {},
   "source": [
    "Muestra la 2º Columna"
   ]
  },
  {
   "cell_type": "markdown",
   "id": "aeb55937-4af2-4886-915a-7419ab73e8af",
   "metadata": {},
   "source": [
    "Muestra la 2º y 3º Columna"
   ]
  },
  {
   "cell_type": "markdown",
   "id": "6bfa7a13-4f29-45bb-b392-941846e022d4",
   "metadata": {},
   "source": [
    "Muestra la 2º y 3º Fila"
   ]
  },
  {
   "cell_type": "markdown",
   "id": "76b43c47-7c09-47ea-8296-7a55d8b8cb73",
   "metadata": {},
   "source": [
    "Muestra la última columna. Debe funcionar independientemente del número de columnas."
   ]
  },
  {
   "cell_type": "markdown",
   "id": "cb328069-08b9-4171-95f8-9ff10545a67b",
   "metadata": {},
   "source": [
    "Muestra la 2º y 4º Columna y la 1º y 3º fila"
   ]
  },
  {
   "cell_type": "markdown",
   "id": "5cb59148-f7b7-4a24-8d47-18ff32f82f47",
   "metadata": {},
   "source": [
    "Muestra de la 2º a la 3º Columna y de la 1º a la 3º fila"
   ]
  },
  {
   "cell_type": "markdown",
   "id": "ef621e62-935d-4ec1-884e-b5816901bf41",
   "metadata": {},
   "source": [
    "Muestra todas las columnas excepto la primera y la última. Debe funcionar independientemente del número de columnas."
   ]
  },
  {
   "cell_type": "markdown",
   "id": "e9642f31-6e23-4d9f-a16d-eda2af8f50bc",
   "metadata": {},
   "source": [
    "Muestra todas las filas excepto la primera y la última. Debe funcionar independientemente del número de filas."
   ]
  },
  {
   "cell_type": "markdown",
   "id": "3026c9f8-a474-4407-aba4-788b3b0bf328",
   "metadata": {},
   "source": [
    "Muestra todas las columnas excepto la primera y la última y todas las filas excepto la primera y la última. Debe funcionar independientemente del número de filas y columnas."
   ]
  },
  {
   "cell_type": "markdown",
   "id": "611eced6-a753-4e4b-bac4-5ae1225c4cdb",
   "metadata": {},
   "source": [
    "Imprime la matriz y haz que las cabeceras de cada columna sean A, B , C y D"
   ]
  },
  {
   "cell_type": "markdown",
   "id": "86c44370-e94c-4864-a8b6-098b845518fe",
   "metadata": {},
   "source": [
    "# Ejercicio 4\n",
    "El siguiente array contiene las temperaturas medias que ha hecho en Valencia en cada mes [10.2, 10.7, 13.3, 15.8, 19.3, 23.6, 26, 25.9, 22.8, 19.1, 13.9, 10.8 ]\n",
    "\n",
    "Muestra las temperaturas cuyo valor sea mayor que 20"
   ]
  },
  {
   "cell_type": "markdown",
   "id": "fea5ff2a-3b9f-42f1-862e-a3287e6847ea",
   "metadata": {},
   "source": [
    "Muestra las temperaturas cuyo valor sea menor que 11"
   ]
  },
  {
   "cell_type": "markdown",
   "id": "dee7c26d-2776-43d8-a8ed-4303d2a50b87",
   "metadata": {},
   "source": [
    "Muestra las temperaturas cuyo valor sea mayor que 20 o menor que 11"
   ]
  },
  {
   "cell_type": "markdown",
   "id": "e7409820-4181-4c56-93bb-9a62920846f3",
   "metadata": {},
   "source": [
    "Ejercicio 5\n",
    "Carga los datos de un dataset muy utilizado en la ciencia de datos con con el siguiente código:\n",
    "from sklearn.datasets import load_iris\n",
    "datos=load_iris().data\n",
    "resultado=load_iris().target\n",
    "\n",
    "\n",
    "Crea un array llamado sepal_length con las 99 primeras filas y la 1º columna de la matriz datos\n",
    "Crea un array llamado petal_length con las 99 primeras filas y la 3º columna de la matriz datos\n",
    "Crea un array llamado x juntando las 2 columnas sepal_length y petal_length\n",
    "Crea un array llamado y con las 99 primeras filas del vector resultado"
   ]
  },
  {
   "cell_type": "markdown",
   "id": "4be51dff-4dd6-4f5e-8927-f49045f4f102",
   "metadata": {},
   "source": [
    "Ejercicio 6\n",
    "Carga los datos del ejemplo de las flores con el siguiente código:\n",
    "from sklearn.datasets import load_iris\n",
    "datos=load_iris().data\n",
    "resultado=load_iris().target\n",
    "\n",
    "\n",
    "Crea un array llamado x con las 99 primeras filas , la 1º columna y la 3º columna de la matriz datos\n",
    "Crea un array llamado y con las 99 primeras filas del vector resultado"
   ]
  },
  {
   "cell_type": "markdown",
   "id": "52917679-2951-4483-a68d-f2dbaf5efe32",
   "metadata": {},
   "source": [
    "Ejercicio 7\n",
    "Selecciona las celdas en rojo oscuro de la siguiente matriz:"
   ]
  },
  {
   "cell_type": "markdown",
   "id": "20b7e058-83bb-4c48-ba71-e4ab6d8f6a36",
   "metadata": {},
   "source": [
    "Ejercicio 8\n",
    "Selecciona las celdas en rojo oscuro de la siguiente matriz:\n",
    "\n",
    "Ahora selecciona las celdas en rojo oscuro pero también las verdes y azules que hay por detrás de las rojo oscuro."
   ]
  },
  {
   "cell_type": "markdown",
   "id": "ef762add-78cd-48c8-87f0-85ba8d8b20e2",
   "metadata": {},
   "source": [
    "Ejercicio 9\n",
    "Crea la siguiente matriz:\n",
    "\n",
    "\n",
    "A todos los elementos de la matriz sumale un 10. Usando las funciones de numpy\n",
    "A todos los elementos de la matriz sumale un 10 y divídelos entre 2. Usando las funciones de numpy\n",
    "A todos los elementos de la matriz sumale un 10. Usando operadores\n",
    "A todos los elementos de la matriz sumale un 10 y divídelos entre 2. Usando operadores"
   ]
  },
  {
   "cell_type": "markdown",
   "id": "111a35d4-1401-4a4a-9f6d-c6e6068e0135",
   "metadata": {},
   "source": [
    "Ejercicio 10\n",
    "Crea la siguiente matriz:\n",
    "\n",
    "Multiplica cada elemento de la matriz por sí mismo\n",
    "Multiplica la matriz por sí misma"
   ]
  },
  {
   "cell_type": "markdown",
   "id": "12fb1c85-e8bc-46d5-94df-2938d8c25943",
   "metadata": {},
   "source": [
    "Ejercicio 11\n",
    "Crea una función llamada f que acepte como parámetro el número y que retorne el valor multiplicado por 2 y además que se le sume 1.\n",
    "Crea ahora el vector de numpy [1,5,4,7,3,9,8,6] y aplícale la función f"
   ]
  },
  {
   "cell_type": "markdown",
   "id": "33ad8dbf-a882-48c6-9147-4b770d2b42c2",
   "metadata": {},
   "source": [
    "Ejercicio 12\n",
    "Crea una función llamada f que acepte como parámetro el número y que retorne lo siguiente:\n",
    "Si es valor está en el rango (-inf,3] que retorne 0\n",
    "Si es valor está en el rango [3,5] que retorne 4\n",
    "Si es valor está en el rango [5,6] que retorne 5\n",
    "Si es valor está en el rango [6,7] que retorne 6\n",
    "Si es valor está en el rango [7,9] que retorne 8\n",
    "Si es valor está en el rango [9,+inf) que retorne 10\n",
    "Crea ahora el vector de numpy [1,5,4,7,3,9,8,6] y aplícale la función f"
   ]
  },
  {
   "cell_type": "markdown",
   "id": "71161271-791a-49db-8193-1dce2fe068a9",
   "metadata": {},
   "source": [
    "Ejercicio 13\n",
    "Muestra con numpy el número de dimensiones de los siguientes arrays:\n",
    "\n",
    "\n",
    "a=[2, 3, 5, 7, 11, 13, 17, 19, 23, 29, 31, 37]\n",
    "\n",
    "\n",
    "\n",
    "\n",
    "b=[[2, 3], [5, 7], [11, 13], [17, 19], [23, 29], [31, 37]]\n",
    "\n",
    "\n",
    "\n",
    "\n",
    "c=[[[2, 3], [5, 7]], [[11, 13], [17, 19]], [[23, 29], [31, 37]]]"
   ]
  },
  {
   "cell_type": "markdown",
   "id": "e6ca7a7e-ae7b-4778-acd2-bd30c3d04a5a",
   "metadata": {},
   "source": [
    "Ejercicio 14: Forma\n",
    "Crea una función llamada mostrar_tamanyo que le pasemos un array de numpy y nos imprima el tamaño de cada una de las dimensiones. \n",
    "Por ejemplo con el array [ [ [2, 3], [5, 7]], [ [11, 13], [17, 19]], [ [23, 29], [31, 37] ] ] deberá mostrar\n",
    "El nº de elementos de la dimension 0 es 3\n",
    "El nº de elementos de la dimension 1 es 2\n",
    "El nº de elementos de la dimension 2 es 2\n",
    "\n",
    "Prueba también con los siguientes arrays\n",
    "\n",
    "\n",
    "a=[2, 3, 5, 7, 11, 13, 17, 19, 23, 29, 31, 37]\n",
    "\n",
    "\n",
    "\n",
    "\n",
    "b=[[2, 3], [5, 7], [11, 13], [17, 19], [23, 29], [31, 37]]\n",
    "\n",
    "\n",
    "\n",
    "\n",
    "c=[[[2, 3], [5, 7]], [[11, 13], [17, 19]], [[23, 29], [31, 37]]]"
   ]
  },
  {
   "cell_type": "markdown",
   "id": "238c4389-4dfa-41a9-b7ed-f690be66a1cf",
   "metadata": {},
   "source": [
    "Ejercicio 17\n",
    "Muestra con numpy el tipo de datos de los siguientes arrays:\n",
    "\n",
    "\n",
    "a=[2, 3, 5]\n",
    "\n",
    "\n",
    "\n",
    "\n",
    "b=[2.4, 3.2, 5.6]\n",
    "\n",
    "\n",
    "\n",
    "\n",
    "c=[2, 3, 5.6]"
   ]
  },
  {
   "cell_type": "markdown",
   "id": "8f703608-13bc-486e-85b1-80fa2400f17a",
   "metadata": {},
   "source": [
    "Ejercicio 18\n",
    "Transforma el siguiente array en 8 bits sin signo y muestra cuánto ocupa en memoria\n",
    "\n",
    "\n",
    "a=np.array([1, -2, 3])\n",
    "\n",
    "\n",
    "Transforma el siguiente array en 8 bits sin signo y muestra cuánto ocupa en memoria\n",
    "\n",
    "\n",
    "b=np.array([1,254,255])\n",
    "\n",
    "\n",
    "Transforma el siguiente array en 8 bits con signo y muestra cuánto ocupa en memoria\n",
    "\n",
    "\n",
    "b=np.array([1,127,128])\n",
    "\n",
    "\n",
    "Transforma el siguiente array en 8 bits con signo y muestra cuánto ocupa en memoria\n",
    "\n",
    "\n",
    "b=np.array([1,-128,-129])\n",
    "\n",
    "Transforma el siguiente array en float32 y muestra cuanto ocupa en memoria\n",
    "\n",
    "\n",
    "b=np.array([1,2,3])\n",
    "\n",
    "\n",
    "Transforma el siguiente array en int32 y muestra cuánto ocupa en memoria\n",
    "\n",
    "\n",
    "b=np.array([1.9,2.01,3.51])"
   ]
  },
  {
   "cell_type": "markdown",
   "id": "1ee242c7-9e54-4d9a-818b-24662ae98038",
   "metadata": {},
   "source": [
    "Ejercicio 19\n",
    "En ejercicios anteriores obtuviste para el problema de las flores, una matriz x y un vector y.\n",
    "Une los datos en una nueva matriz de forma que cada fila de la nueva matriz contenga los datos de cada fila de la x y el dato correspondiente de la y."
   ]
  },
  {
   "cell_type": "markdown",
   "id": "fc3f4961-b097-42c9-8c08-1695ec382a11",
   "metadata": {},
   "source": [
    "Ejercicio 22\n",
    "Dado el siguiente código python:\n",
    "import matplotlib.pyplot as plt\n",
    "import numpy as np\n",
    "figure=plt.figure(figsize=(8,8))\n",
    "axes = figure.add_subplot()\n",
    "x=[-3,-2,-1,0,1,2,3]\n",
    "y =  3*(1 - x)**2 * np.exp(-x**2 )  - 10*(x/5 - x**3 )*np.exp(-x**2 ) - 1./3*np.exp(-(x + 1)**2 )\n",
    "axes.plot(x,y)\n",
    "\n",
    "\n",
    "\n",
    "Modifica el código que genera la variable x para que sea un array de numpy y de tipo float. Muestra la imagen\n",
    "Modifica el código que genera la variable x para que sean 10 valores entre el [-3,3]. Muestra la imagen\n",
    "Modifica el código que genera la variable x para que sean 20 valores entre el [-3,3]. Muestra la imagen\n",
    "Modifica el código que genera la variable x para que sean 40 valores entre el [-3,3]. Muestra la imagen\n",
    "Modifica el código que genera la variable x para que sean 60 valores entre el [-3,3]. Muestra la imagen\n",
    "Modifica el código que genera la variable x para que sean 100 valores entre el [-3,3]. Muestra la imagen"
   ]
  },
  {
   "cell_type": "markdown",
   "id": "51a07020-6114-47da-80fb-15df13965e46",
   "metadata": {},
   "source": [
    "Ejercicio 23\n",
    "Carga con numpy el fichero wine.csv que contiene una matriz de números separados por coma.\n",
    "La matriz contiene una serie de columnas con características del vino y la última columna indica el tipo del vino.\n",
    "Crea una función en python llamada imprimir_datos y tendrá como parámetro una matriz de numpy de forma que:\n",
    "Imprima cuantas características tenemos de cada tipo de vino.\n",
    "Imprima cuantas muestra de vino tenemos\n",
    "Imprima cuantos tipos distintos de vino tenemos y cuales son\n",
    "Imprima los valores máximos y mínimos de cada característica\n",
    "Retorna una nueva matriz llamada x solo con las características y un nuevo array llamado y solo con los tipos de vino\n",
    "Llama a la función imprimir_datos con los datos de wine.csv"
   ]
  },
  {
   "cell_type": "markdown",
   "id": "4bc096c2-ddf6-404a-8fb0-c07d4007ea75",
   "metadata": {},
   "source": [
    "Ejercicio 24\n",
    "\n",
    "Tienes los datos de las ventas diarias de una tienda durante un año. Los datos incluyen ventas anormalmente altas debido a días festivos o promociones. El objetivo es limpiar los datos eliminando estos valores atípicos y analizar la tendencia general de ventas.\n",
    "\n",
    "\n",
    "\n",
    "np.random.seed(0)\n",
    "# Ventas diarias simuladas con media 500 y desviación estándar 50\n",
    "sales_data = np.random.normal(500, 50, 365)  \n",
    "# Ventas atípicas por promociones\n",
    "sales_data[[50, 120, 180, 250, 300]] = [1500, 1400, 1600, 1700, 1800]  \n",
    "\n",
    "\n",
    "Detecta y elimina los valores atípicos (aquellos que están fuera de 3 desviaciones estándar del promedio).\n",
    "Calcula el promedio, la mediana y la desviación estándar de las ventas después de limpiar los datos.\n",
    "Genera una vista de las ventas de cada trimestre (3 primeros meses, 3 siguientes, etc.).\n",
    "Encuentra los 5 días con las ventas más bajas después de la limpieza de los datos."
   ]
  },
  {
   "cell_type": "markdown",
   "id": "960fad20-4ce5-461f-b18f-c28e9dcd635a",
   "metadata": {},
   "source": [
    "Ejercicio 25\n",
    "\n",
    "Tienes un conjunto de datos que contiene información demográfica de varias personas, incluyendo edad, ingresos anuales, y nivel de educación. El objetivo es realizar un análisis y encontrar patrones significativos entre estas variables.\n",
    "\n",
    "np.random.seed(3)\n",
    "ages = np.random.randint(18, 70, size=200)  # Edades de 200 personas\n",
    "income = np.random.normal(50000, 15000, size=200)  # Ingresos anuales en un rango normal alrededor de 50,000\n",
    "education_years = np.random.randint(0, 20, size=200)  # Años de educación formal\n",
    "\n",
    "\n",
    "Calcula la correlación entre los años de educación y los ingresos.\n",
    "Divide a las personas en grupos de edades (18-30, 31-45, 46-60, 61+) y calcula el ingreso promedio por grupo.\n",
    "Encuentra el percentil 90 de ingresos y determina cuántas personas ganan por encima de ese valor.\n",
    "Agrupa los datos en función del número de años de educación y calcula el promedio de ingresos para cada grupo.\n",
    "\n",
    "Para calcular la correlación utiliza la función corrcoef.\n",
    "\n",
    "Para encontrar el percentil 90 utiliza la función percentile."
   ]
  },
  {
   "cell_type": "code",
   "execution_count": null,
   "id": "2e183301-bc70-44ce-ba32-266957a6abf8",
   "metadata": {},
   "outputs": [],
   "source": []
  },
  {
   "cell_type": "code",
   "execution_count": null,
   "id": "aa36c32a-20bf-44db-ae32-6001062b52ad",
   "metadata": {},
   "outputs": [],
   "source": []
  }
 ],
 "metadata": {
  "kernelspec": {
   "display_name": "Python 3 (ipykernel)",
   "language": "python",
   "name": "python3"
  },
  "language_info": {
   "codemirror_mode": {
    "name": "ipython",
    "version": 3
   },
   "file_extension": ".py",
   "mimetype": "text/x-python",
   "name": "python",
   "nbconvert_exporter": "python",
   "pygments_lexer": "ipython3",
   "version": "3.12.4"
  }
 },
 "nbformat": 4,
 "nbformat_minor": 5
}

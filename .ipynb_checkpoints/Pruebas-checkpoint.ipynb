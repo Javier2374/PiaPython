{
 "cells": [
  {
   "cell_type": "markdown",
   "id": "e190048b-f0ea-462d-b0d0-cd1cf999d1f2",
   "metadata": {},
   "source": [
    "# Hola"
   ]
  },
  {
   "cell_type": "code",
   "execution_count": 2,
   "id": "1667029f-31a3-435e-a5b6-2f27e67aa6c4",
   "metadata": {},
   "outputs": [
    {
     "name": "stdout",
     "output_type": "stream",
     "text": [
      "Hello World7\n",
      "Hello World 7\n"
     ]
    }
   ],
   "source": [
    "num = 7\n",
    "\n",
    "print(\"Hello World\" + str(num))\n",
    "print(\"Hello World\" , num)"
   ]
  },
  {
   "cell_type": "markdown",
   "id": "121b4a18-d811-47ad-a222-8eb796c4d464",
   "metadata": {},
   "source": [
    "print(\"Hello World\" + num) _Hay que hacer el cast_"
   ]
  },
  {
   "cell_type": "code",
   "execution_count": 4,
   "id": "68773d3c-7539-4e13-82a3-307af100cd5f",
   "metadata": {},
   "outputs": [
    {
     "name": "stdout",
     "output_type": "stream",
     "text": [
      "3\n"
     ]
    }
   ],
   "source": [
    "def suma (a,b):\n",
    "    return a+b\n",
    "print(suma(1,2))"
   ]
  },
  {
   "cell_type": "code",
   "execution_count": 5,
   "id": "4f282dd2-519c-4ea2-b3b3-4bd40fe4b8ee",
   "metadata": {},
   "outputs": [
    {
     "name": "stdout",
     "output_type": "stream",
     "text": [
      "5\n",
      "7\n",
      "9\n",
      "11\n",
      "13\n",
      "15\n",
      "17\n",
      "19\n"
     ]
    }
   ],
   "source": [
    "for i in range(5, 20, 2):\n",
    "    print(i) #5,7,9,11,13,15,17,19"
   ]
  },
  {
   "cell_type": "code",
   "execution_count": 6,
   "id": "9e83f7bc-fa0d-41b0-9988-bd0f2f56f2f7",
   "metadata": {},
   "outputs": [
    {
     "name": "stdout",
     "output_type": "stream",
     "text": [
      "5\n",
      "4\n",
      "3\n",
      "2\n",
      "1\n"
     ]
    }
   ],
   "source": [
    "for i in range (5, 0, -1):\n",
    "    print(i) #5,4,3,2,1"
   ]
  },
  {
   "cell_type": "code",
   "execution_count": 1,
   "id": "65c4a600-accb-4f3d-a8dc-510e7088a825",
   "metadata": {},
   "outputs": [
    {
     "name": "stdout",
     "output_type": "stream",
     "text": [
      "['Lambda.ipynb', 'Ejercicios básicos.ipynb', 'Ejercicios de manipulación de excepciones.ipynb', 'Untitled.ipynb', 'Ejercicios con listas.ipynb', '.ipynb_checkpoints', 'Pruebas.ipynb']\n"
     ]
    }
   ],
   "source": [
    "import os\n",
    "lista = os.listdir('.')\n",
    "print(lista)"
   ]
  },
  {
   "cell_type": "code",
   "execution_count": 3,
   "id": "632ac478-892c-4c0f-93a9-d7e334964cbe",
   "metadata": {},
   "outputs": [
    {
     "name": "stdout",
     "output_type": "stream",
     "text": [
      "['¡Bienvenidos', '', '', 'al', '', 'curso', 'de', 'Python!']\n"
     ]
    }
   ],
   "source": [
    "palabras = \"¡Bienvenidos   al  curso de Python!\"\n",
    "palabras_separadas = palabras.split(\" \")\n",
    "print(palabras_separadas)"
   ]
  },
  {
   "cell_type": "code",
   "execution_count": null,
   "id": "d5d0975e-1b55-48b9-874b-32b13f595634",
   "metadata": {},
   "outputs": [],
   "source": []
  }
 ],
 "metadata": {
  "kernelspec": {
   "display_name": "Python 3 (ipykernel)",
   "language": "python",
   "name": "python3"
  },
  "language_info": {
   "codemirror_mode": {
    "name": "ipython",
    "version": 3
   },
   "file_extension": ".py",
   "mimetype": "text/x-python",
   "name": "python",
   "nbconvert_exporter": "python",
   "pygments_lexer": "ipython3",
   "version": "3.12.4"
  }
 },
 "nbformat": 4,
 "nbformat_minor": 5
}

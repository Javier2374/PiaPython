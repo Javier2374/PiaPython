{
 "cells": [
  {
   "cell_type": "markdown",
   "id": "b43d2d22-ce0c-4941-ace7-9e70c9ad9936",
   "metadata": {
    "id": "b43d2d22-ce0c-4941-ace7-9e70c9ad9936"
   },
   "source": [
    "### Ejercicios con listas\n",
    "\n",
    "1. Dada una lista de números enteros, escribe un programa que calcule la suma de todos los elementos de la lista."
   ]
  },
  {
   "cell_type": "code",
   "execution_count": null,
   "id": "3acfc979-ec48-4bd8-8ca1-e92570e7a675",
   "metadata": {
    "id": "3acfc979-ec48-4bd8-8ca1-e92570e7a675",
    "outputId": "4c117fa8-9911-412b-c565-9526808d0a33"
   },
   "outputs": [
    {
     "name": "stdout",
     "output_type": "stream",
     "text": [
      "La suma es 48\n"
     ]
    }
   ],
   "source": [
    "lista = [1, 2, 3, 4, 7, 9, 22]\n",
    "\n",
    "suma = 0\n",
    "for num in lista:\n",
    "    suma+=num\n",
    "\n",
    "print(f\"La suma es {suma}\")"
   ]
  },
  {
   "cell_type": "markdown",
   "id": "196dd6f6-16f6-4114-a853-d2e9df46a364",
   "metadata": {
    "id": "196dd6f6-16f6-4114-a853-d2e9df46a364"
   },
   "source": [
    "2. Escribe una función que tome una lista de números como entrada y devuelva el número mayor y menor de la lista."
   ]
  },
  {
   "cell_type": "code",
   "execution_count": null,
   "id": "ddf998bc-bcac-4f34-b742-d7e96dcace39",
   "metadata": {
    "id": "ddf998bc-bcac-4f34-b742-d7e96dcace39",
    "outputId": "d29638f3-d653-416c-99cc-048da7217a5b"
   },
   "outputs": [
    {
     "name": "stdout",
     "output_type": "stream",
     "text": [
      "El número mayor es 30 y el menor es 1\n"
     ]
    }
   ],
   "source": [
    "def mayor_y_menor(lista):\n",
    "    mayor = max(lista)\n",
    "    menor = min(lista)\n",
    "    print(f\"El número mayor es {mayor} y el menor es {menor}\")\n",
    "\n",
    "mayor_y_menor([1,2,30,4,5,6])"
   ]
  },
  {
   "cell_type": "markdown",
   "id": "006b1bad-bc10-4aab-9311-e25d33a9e35f",
   "metadata": {
    "id": "006b1bad-bc10-4aab-9311-e25d33a9e35f"
   },
   "source": [
    "3. Escribe un programa que elimine los elementos duplicados de una lista, manteniendo el orden original."
   ]
  },
  {
   "cell_type": "code",
   "execution_count": null,
   "id": "17961b38-8284-48dd-9f19-d4dbd8b11144",
   "metadata": {
    "colab": {
     "base_uri": "https://localhost:8080/"
    },
    "executionInfo": {
     "elapsed": 725,
     "status": "ok",
     "timestamp": 1728491898084,
     "user": {
      "displayName": "Javier Martínez Álvarez",
      "userId": "01650218822504026332"
     },
     "user_tz": -120
    },
    "id": "17961b38-8284-48dd-9f19-d4dbd8b11144",
    "outputId": "5b110aff-0fdc-4e61-d722-03f43c4b2f18"
   },
   "outputs": [
    {
     "name": "stdout",
     "output_type": "stream",
     "text": [
      "[4, 8, 1, 23, 17, 5]\n"
     ]
    }
   ],
   "source": [
    "numeros = [4, 8, 1, 23, 17, 5, 8, 23]\n",
    "\n",
    "numeros_sin_duplicados = []\n",
    "\n",
    "for num in numeros:\n",
    "    if num not in numeros_sin_duplicados:\n",
    "        numeros_sin_duplicados.append(num)\n",
    "\n",
    "print(numeros_sin_duplicados)"
   ]
  },
  {
   "cell_type": "markdown",
   "id": "4512840e-375d-4f77-a0c1-fd2f87329947",
   "metadata": {
    "id": "4512840e-375d-4f77-a0c1-fd2f87329947"
   },
   "source": [
    "4. Dada una lista y un número n, rota la lista a la izquierda n posiciones."
   ]
  },
  {
   "cell_type": "code",
   "execution_count": null,
   "id": "c07c99f7-09e5-44a2-9038-a52dcd81e9a5",
   "metadata": {
    "colab": {
     "base_uri": "https://localhost:8080/"
    },
    "executionInfo": {
     "elapsed": 296,
     "status": "ok",
     "timestamp": 1728580805280,
     "user": {
      "displayName": "Javier Martínez Álvarez",
      "userId": "01650218822504026332"
     },
     "user_tz": -120
    },
    "id": "c07c99f7-09e5-44a2-9038-a52dcd81e9a5",
    "outputId": "339a88be-d352-484b-c7e0-8706786f0906"
   },
   "outputs": [
    {
     "name": "stdout",
     "output_type": "stream",
     "text": [
      "[4, 5, 6, 1, 2, 3]\n"
     ]
    }
   ],
   "source": [
    "numeros = [1, 2, 3, 4, 5, 6]\n",
    "n = 3\n",
    "for i in range(n):\n",
    "    num = numeros[0]\n",
    "    numeros.remove(num)\n",
    "    numeros.append(num)\n",
    "\n",
    "print(numeros)"
   ]
  },
  {
   "cell_type": "markdown",
   "id": "5d122d60-1e19-491a-a5fa-db0bd11414d0",
   "metadata": {
    "id": "5d122d60-1e19-491a-a5fa-db0bd11414d0"
   },
   "source": [
    "5. Dadas dos listas de igual longitud, escribe un programa que cree una nueva lista donde los elementos de las listas originales se alternen."
   ]
  },
  {
   "cell_type": "code",
   "execution_count": null,
   "id": "3Lw-9lpZcQX-",
   "metadata": {
    "colab": {
     "base_uri": "https://localhost:8080/"
    },
    "executionInfo": {
     "elapsed": 295,
     "status": "ok",
     "timestamp": 1728580980484,
     "user": {
      "displayName": "Javier Martínez Álvarez",
      "userId": "01650218822504026332"
     },
     "user_tz": -120
    },
    "id": "3Lw-9lpZcQX-",
    "outputId": "9b750eff-f782-4ed7-9f5f-95e9b704ae3a"
   },
   "outputs": [
    {
     "name": "stdout",
     "output_type": "stream",
     "text": [
      "[1, 1, 2, 2, 3, 3, 4, 4, 5, 5, 6, 6]\n"
     ]
    }
   ],
   "source": [
    "lista1 = [1, 2, 3, 4, 5, 6]\n",
    "lista2 = [1, 2, 3, 4, 5, 6]\n",
    "lista_nueva = []\n",
    "\n",
    "for i in range(len(lista1)):\n",
    "    lista_nueva.append(lista1[i])\n",
    "    lista_nueva.append(lista2[i])\n",
    "\n",
    "print(lista_nueva)"
   ]
  },
  {
   "cell_type": "markdown",
   "id": "a2d41281-27d7-45a8-829d-5f923cc4b6c9",
   "metadata": {
    "id": "a2d41281-27d7-45a8-829d-5f923cc4b6c9"
   },
   "source": [
    "### Ejercicios con tuplas\n",
    "\n",
    "1. Dada la tupla (10, 20, 30, 40, 50), escribe un programa que imprima el tercer elemento."
   ]
  },
  {
   "cell_type": "code",
   "execution_count": null,
   "id": "C--Ce38Edbhz",
   "metadata": {
    "colab": {
     "base_uri": "https://localhost:8080/"
    },
    "executionInfo": {
     "elapsed": 324,
     "status": "ok",
     "timestamp": 1728581314063,
     "user": {
      "displayName": "Javier Martínez Álvarez",
      "userId": "01650218822504026332"
     },
     "user_tz": -120
    },
    "id": "C--Ce38Edbhz",
    "outputId": "3eb82e9c-375f-4dac-8281-7cfb9387da50"
   },
   "outputs": [
    {
     "name": "stdout",
     "output_type": "stream",
     "text": [
      "30\n"
     ]
    }
   ],
   "source": [
    "tupla = (10, 20, 30, 40, 50)\n",
    "\n",
    "print(tupla[2])"
   ]
  },
  {
   "cell_type": "markdown",
   "id": "70dcdbd8-1d80-499b-978b-223e61cb1f9c",
   "metadata": {
    "id": "70dcdbd8-1d80-499b-978b-223e61cb1f9c"
   },
   "source": [
    "2. Dadas dos tuplas, concaténalas en una sola tupla."
   ]
  },
  {
   "cell_type": "code",
   "execution_count": null,
   "id": "HwMo-cY7dyuH",
   "metadata": {
    "colab": {
     "base_uri": "https://localhost:8080/"
    },
    "executionInfo": {
     "elapsed": 299,
     "status": "ok",
     "timestamp": 1728581221596,
     "user": {
      "displayName": "Javier Martínez Álvarez",
      "userId": "01650218822504026332"
     },
     "user_tz": -120
    },
    "id": "HwMo-cY7dyuH",
    "outputId": "8718c9b3-f9ee-4487-a2d6-cda7bb019621"
   },
   "outputs": [
    {
     "name": "stdout",
     "output_type": "stream",
     "text": [
      "(10, 20, 30, 40, 50, 60, 70, 80, 90, 100)\n"
     ]
    }
   ],
   "source": [
    "tupla1 = (10, 20, 30, 40, 50)\n",
    "tupla2 = (60, 70, 80, 90, 100)\n",
    "tupla_nueva = tupla1 + tupla2\n",
    "print(tupla_nueva)"
   ]
  },
  {
   "cell_type": "markdown",
   "id": "21f9f1e3-e0da-4049-8af7-42f11a4ced51",
   "metadata": {
    "id": "21f9f1e3-e0da-4049-8af7-42f11a4ced51"
   },
   "source": [
    "3. Dada una tupla, escribe un programa que la convierta en una lista."
   ]
  },
  {
   "cell_type": "code",
   "execution_count": null,
   "id": "tgu2DohqeX_l",
   "metadata": {
    "colab": {
     "base_uri": "https://localhost:8080/"
    },
    "executionInfo": {
     "elapsed": 308,
     "status": "ok",
     "timestamp": 1728581441829,
     "user": {
      "displayName": "Javier Martínez Álvarez",
      "userId": "01650218822504026332"
     },
     "user_tz": -120
    },
    "id": "tgu2DohqeX_l",
    "outputId": "8bcd0c31-6763-455f-d655-1cbe3b9b5655"
   },
   "outputs": [
    {
     "name": "stdout",
     "output_type": "stream",
     "text": [
      "[10, 20, 30, 40, 50]\n"
     ]
    }
   ],
   "source": [
    "tupla = (10, 20, 30, 40, 50)\n",
    "lista = []\n",
    "\n",
    "for i in tupla:\n",
    "    lista.append(i)\n",
    "\n",
    "print(lista)"
   ]
  },
  {
   "cell_type": "markdown",
   "id": "86cb9209-8d16-4a02-ab6c-2717a63e844b",
   "metadata": {
    "id": "86cb9209-8d16-4a02-ab6c-2717a63e844b"
   },
   "source": [
    "4. Dada la siguiente tupla, accede al elemento 8 dentro de la tupla anidada."
   ]
  },
  {
   "cell_type": "markdown",
   "id": "9ecadf10-df71-4200-8008-855001c4ec2c",
   "metadata": {
    "id": "9ecadf10-df71-4200-8008-855001c4ec2c"
   },
   "source": [
    "tupla = (1, 2, (3, 4, 5, (6, 7, 8)))\n",
    "##### Resultado: 8"
   ]
  },
  {
   "cell_type": "code",
   "execution_count": null,
   "id": "SfehgFDofAeD",
   "metadata": {
    "colab": {
     "base_uri": "https://localhost:8080/"
    },
    "executionInfo": {
     "elapsed": 289,
     "status": "ok",
     "timestamp": 1728581643980,
     "user": {
      "displayName": "Javier Martínez Álvarez",
      "userId": "01650218822504026332"
     },
     "user_tz": -120
    },
    "id": "SfehgFDofAeD",
    "outputId": "a1b5fd3d-fabd-4638-d021-6e6f3a792de0"
   },
   "outputs": [
    {
     "name": "stdout",
     "output_type": "stream",
     "text": [
      "8\n"
     ]
    }
   ],
   "source": [
    "tupla = (1, 2, (3, 4, 5, (6, 7, 8)))\n",
    "print(tupla[2][3][2])"
   ]
  },
  {
   "cell_type": "markdown",
   "id": "fd0dc268-b32f-4a30-bee2-68a8c5a18c3f",
   "metadata": {
    "id": "fd0dc268-b32f-4a30-bee2-68a8c5a18c3f"
   },
   "source": [
    "5. Escribe un programa que encuentre el índice de un elemento en una tupla."
   ]
  },
  {
   "cell_type": "code",
   "execution_count": null,
   "id": "IfqIzHUZfr9C",
   "metadata": {
    "colab": {
     "base_uri": "https://localhost:8080/"
    },
    "executionInfo": {
     "elapsed": 282,
     "status": "ok",
     "timestamp": 1728581793303,
     "user": {
      "displayName": "Javier Martínez Álvarez",
      "userId": "01650218822504026332"
     },
     "user_tz": -120
    },
    "id": "IfqIzHUZfr9C",
    "outputId": "7a1406f7-a6ea-4539-db84-372cbe5e4eb1"
   },
   "outputs": [
    {
     "name": "stdout",
     "output_type": "stream",
     "text": [
      "4\n"
     ]
    }
   ],
   "source": [
    "tupla = (10, 20, 30, 40, 50)\n",
    "\n",
    "print(tupla.index(50))"
   ]
  },
  {
   "cell_type": "markdown",
   "id": "7f24928a-0305-4bdb-a94d-bfbf6444f46b",
   "metadata": {
    "id": "7f24928a-0305-4bdb-a94d-bfbf6444f46b"
   },
   "source": [
    "6. Escribe un programa que tome dos listas y devuelva una lista con todas las combinaciones posibles (producto cartesiano) de sus elementos."
   ]
  },
  {
   "cell_type": "code",
   "execution_count": null,
   "id": "GaIXOH5NhCLy",
   "metadata": {
    "colab": {
     "base_uri": "https://localhost:8080/"
    },
    "executionInfo": {
     "elapsed": 307,
     "status": "ok",
     "timestamp": 1728582347510,
     "user": {
      "displayName": "Javier Martínez Álvarez",
      "userId": "01650218822504026332"
     },
     "user_tz": -120
    },
    "id": "GaIXOH5NhCLy",
    "outputId": "be66eb9d-e3e3-4e85-8bf5-284d73ea9857"
   },
   "outputs": [
    {
     "name": "stdout",
     "output_type": "stream",
     "text": [
      "[[1, 4], [1, 5], [1, 6], [2, 4], [2, 5], [2, 6], [3, 4], [3, 5], [3, 6]]\n"
     ]
    }
   ],
   "source": [
    "tupla1 = (1, 2, 3)\n",
    "tupla2 = (4, 5, 6)\n",
    "lista_final = []\n",
    "\n",
    "for i in tupla1:\n",
    "    for j in tupla2:\n",
    "        lista_final.append([i,j])\n",
    "\n",
    "print(lista_final)"
   ]
  },
  {
   "cell_type": "markdown",
   "id": "fc7db97f-e4d8-4834-aa95-48334237c603",
   "metadata": {
    "id": "fc7db97f-e4d8-4834-aa95-48334237c603"
   },
   "source": [
    "7. Dada una lista de números enteros, filtra aquellos que sean números primos. Para esto, primero deberás crear una función que determine si un número es primo."
   ]
  },
  {
   "cell_type": "code",
   "execution_count": null,
   "id": "D4dEU0LcirXy",
   "metadata": {
    "colab": {
     "base_uri": "https://localhost:8080/"
    },
    "executionInfo": {
     "elapsed": 404,
     "status": "ok",
     "timestamp": 1728928902922,
     "user": {
      "displayName": "Javier Martínez Álvarez",
      "userId": "01650218822504026332"
     },
     "user_tz": -120
    },
    "id": "D4dEU0LcirXy",
    "outputId": "f62e2427-7786-400c-9249-ef33032c339c"
   },
   "outputs": [
    {
     "name": "stdout",
     "output_type": "stream",
     "text": [
      "[1, 2, 3, 5, 7, 11, 13, 17, 19, 23, 29, 31, 37, 41, 43, 47, 53, 59, 61, 67, 71, 73, 79, 83, 89, 97]\n"
     ]
    }
   ],
   "source": [
    "tupla = tuple(range(1,101))\n",
    "primos = []\n",
    "\n",
    "for num in tupla:\n",
    "    primo = True\n",
    "    for i in range(2, num):\n",
    "        if num%i == 0:\n",
    "            primo = False\n",
    "\n",
    "    if primo:\n",
    "        primos.append(num)\n",
    "\n",
    "print(primos)"
   ]
  },
  {
   "cell_type": "markdown",
   "id": "4dc628c9-8530-470f-940a-1abc8777da00",
   "metadata": {
    "id": "4dc628c9-8530-470f-940a-1abc8777da00"
   },
   "source": [
    "### Ejercicios con diccionarios\n",
    "\n",
    "1. Dado un diccionario con valores numéricos, escribe un programa que calcule la suma de todos los valores."
   ]
  },
  {
   "cell_type": "code",
   "execution_count": 24,
   "id": "kugmx-C0984W",
   "metadata": {
    "colab": {
     "base_uri": "https://localhost:8080/"
    },
    "executionInfo": {
     "elapsed": 251,
     "status": "ok",
     "timestamp": 1729014241288,
     "user": {
      "displayName": "Javier Martínez Álvarez",
      "userId": "01650218822504026332"
     },
     "user_tz": -120
    },
    "id": "kugmx-C0984W",
    "outputId": "0fcfe1bb-962e-4bed-c592-6fd937dda560"
   },
   "outputs": [
    {
     "name": "stdout",
     "output_type": "stream",
     "text": [
      "6\n"
     ]
    }
   ],
   "source": [
    "d1 = {'a': 1, 'b': 2, 'c': 3}\n",
    "\n",
    "print(sum(d1.values()))"
   ]
  },
  {
   "cell_type": "markdown",
   "id": "6ef268b4-67c6-45d1-a2f0-c04c094e69df",
   "metadata": {
    "id": "6ef268b4-67c6-45d1-a2f0-c04c094e69df"
   },
   "source": [
    "2. Escribe un programa que verifique si una clave dada existe en un diccionario."
   ]
  },
  {
   "cell_type": "code",
   "execution_count": 28,
   "id": "e0wqI5GCR-Vf",
   "metadata": {
    "colab": {
     "base_uri": "https://localhost:8080/"
    },
    "executionInfo": {
     "elapsed": 304,
     "status": "ok",
     "timestamp": 1729015176556,
     "user": {
      "displayName": "Javier Martínez Álvarez",
      "userId": "01650218822504026332"
     },
     "user_tz": -120
    },
    "id": "e0wqI5GCR-Vf",
    "outputId": "e8eb03e8-47ab-4315-9172-2ee3dc9b08c1"
   },
   "outputs": [
    {
     "name": "stdout",
     "output_type": "stream",
     "text": [
      "El valor \"a\" existe\n",
      "El valor \"d\" no existe\n"
     ]
    }
   ],
   "source": [
    "d2 = {'a': 1, 'b': 2, 'c': 3}\n",
    "\n",
    "def existe (key):\n",
    "    value = d2.get(key, -1)\n",
    "    if value == -1:\n",
    "        return f\"El valor \\\"{key}\\\" no existe\"\n",
    "    else:\n",
    "        return f\"El valor \\\"{key}\\\" existe\"\n",
    "\n",
    "print(existe(\"a\"))\n",
    "print(existe(\"d\"))"
   ]
  },
  {
   "cell_type": "markdown",
   "id": "109f46ea-1ebc-4e75-8255-18daf8d9b4e5",
   "metadata": {
    "id": "109f46ea-1ebc-4e75-8255-18daf8d9b4e5"
   },
   "source": [
    "3. Escribe un programa que invierta un diccionario, es decir, que intercambie las claves por los valores."
   ]
  },
  {
   "cell_type": "code",
   "execution_count": 3,
   "id": "zmgyHrCmViat",
   "metadata": {
    "colab": {
     "base_uri": "https://localhost:8080/",
     "height": 231
    },
    "executionInfo": {
     "elapsed": 282,
     "status": "error",
     "timestamp": 1729016104975,
     "user": {
      "displayName": "Javier Martínez Álvarez",
      "userId": "01650218822504026332"
     },
     "user_tz": -120
    },
    "id": "zmgyHrCmViat",
    "outputId": "30573834-59b8-43a3-bb1b-64efe96abbf1"
   },
   "outputs": [
    {
     "name": "stdout",
     "output_type": "stream",
     "text": [
      "Diccionario original: {'a': 1, 'b': 2, 'c': 3}\n",
      "Diccionario invertido: {1: 'a', 2: 'b', 3: 'c'}\n"
     ]
    }
   ],
   "source": [
    "def invertir_diccionario(diccionario):\n",
    "    # Crear un nuevo diccionario con claves y valores invertidos\n",
    "    diccionario_invertido = {valor: clave for clave, valor in diccionario.items()}\n",
    "    return diccionario_invertido\n",
    "\n",
    "# Ejemplo de uso\n",
    "d3 = {'a': 1, 'b': 2, 'c': 3}\n",
    "dic_invertido = invertir_diccionario(d3)\n",
    "\n",
    "print(\"Diccionario original:\", diccionario)\n",
    "print(\"Diccionario invertido:\", diccionario_invertido)\n"
   ]
  },
  {
   "cell_type": "markdown",
   "id": "74543e8a-7d2c-46e1-a31f-57a90b6677d3",
   "metadata": {
    "id": "74543e8a-7d2c-46e1-a31f-57a90b6677d3"
   },
   "source": [
    "4. Dado un diccionario, agrega un nuevo par clave-valor."
   ]
  },
  {
   "cell_type": "code",
   "execution_count": 21,
   "id": "7f115f76-77c2-48be-b161-d7becfe67bf9",
   "metadata": {},
   "outputs": [
    {
     "name": "stdout",
     "output_type": "stream",
     "text": [
      "{'a': 1, 'b': 2, 'c': 3, 'd': 4}\n"
     ]
    }
   ],
   "source": [
    "d4 = {'a': 1, 'b': 2, 'c': 3}\n",
    "agreg = {'d' : 4}\n",
    "\n",
    "#d4.update(agreg)\n",
    "d4['d'] = 4\n",
    "\n",
    "print(d4)"
   ]
  },
  {
   "cell_type": "markdown",
   "id": "166482f1-7c66-4ab5-8bc5-8b24fc54c0ae",
   "metadata": {
    "id": "166482f1-7c66-4ab5-8bc5-8b24fc54c0ae"
   },
   "source": [
    "5. Escribe un programa que reciba una lista de palabras y devuelva un diccionario con la frecuencia de cada palabra."
   ]
  },
  {
   "cell_type": "code",
   "execution_count": 42,
   "id": "a58a9604-8074-4fec-8c71-954f6ff7130e",
   "metadata": {},
   "outputs": [
    {
     "name": "stdin",
     "output_type": "stream",
     "text": [
      "Escribe palabras:  a aaa aaa a b c c c e e e e\n"
     ]
    },
    {
     "name": "stdout",
     "output_type": "stream",
     "text": [
      "{'a': 2, 'aaa': 2, 'b': 1, 'c': 3, 'e': 4}\n"
     ]
    }
   ],
   "source": [
    "cadena = input(\"Escribe palabras: \")\n",
    "\n",
    "palabras = cadena.split(\" \") # Crea una lista con las palabras\n",
    "\n",
    "contador = {}\n",
    "\n",
    "for p in palabras:\n",
    "    if p in contador:\n",
    "        contador[p] = contador[p]+1\n",
    "    else:\n",
    "        contador[p] = 1\n",
    "    \n",
    "\n",
    "print(contador)"
   ]
  },
  {
   "cell_type": "markdown",
   "id": "0d5aebb7-a9c2-4085-8a93-1c6dea811aa7",
   "metadata": {
    "id": "0d5aebb7-a9c2-4085-8a93-1c6dea811aa7"
   },
   "source": [
    "6. Dada una lista de tuplas, donde cada tupla tiene una clave y un valor, conviértela en un diccionario.\n",
    "\n",
    "#Ejemplo de lista de tuplas\n",
    "lista_tuplas = [('a', 1), ('b', 2), ('c', 3)]"
   ]
  },
  {
   "cell_type": "code",
   "execution_count": 19,
   "id": "2f358cef-b2d4-4fbf-b991-f62672d821a6",
   "metadata": {},
   "outputs": [
    {
     "name": "stdout",
     "output_type": "stream",
     "text": [
      "{'a': 1, 'b': 2, 'c': 3}\n"
     ]
    }
   ],
   "source": [
    "lista_tuplas = [('a', 1), ('b', 2), ('c', 3)]\n",
    "d6 = {}\n",
    "\n",
    "for item in lista_tuplas:\n",
    "    d6[item[0]] = item[1]\n",
    "\n",
    "print(d6)\n",
    "    "
   ]
  }
 ],
 "metadata": {
  "colab": {
   "provenance": []
  },
  "kernelspec": {
   "display_name": "Python 3 (ipykernel)",
   "language": "python",
   "name": "python3"
  },
  "language_info": {
   "codemirror_mode": {
    "name": "ipython",
    "version": 3
   },
   "file_extension": ".py",
   "mimetype": "text/x-python",
   "name": "python",
   "nbconvert_exporter": "python",
   "pygments_lexer": "ipython3",
   "version": "3.12.4"
  }
 },
 "nbformat": 4,
 "nbformat_minor": 5
}

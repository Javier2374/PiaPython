{
 "cells": [
  {
   "cell_type": "markdown",
   "metadata": {
    "id": "K5HIDhvAWgoi"
   },
   "source": [
    "1. Escribe un programa que solicite al usuario dos números e intente dividir el primero entre el segundo. Maneja la excepción si el segundo número es cero y muestra un mensaje adecuado."
   ]
  },
  {
   "cell_type": "code",
   "execution_count": 3,
   "metadata": {
    "id": "N5Bugc0lWWe4"
   },
   "outputs": [
    {
     "name": "stdin",
     "output_type": "stream",
     "text": [
      "Escribe un número:  1\n",
      "Escribe otro número:  0\n"
     ]
    },
    {
     "name": "stdout",
     "output_type": "stream",
     "text": [
      "No se puede dividir entre cero\n"
     ]
    }
   ],
   "source": [
    "num1 = int(input(\"Escribe un número: \"))\n",
    "num2 = int(input(\"Escribe otro número: \"))\n",
    "\n",
    "try:\n",
    "    print(num1/num2)\n",
    "except ZeroDivisionError:\n",
    "    print(\"No se puede dividir entre cero\")"
   ]
  },
  {
   "cell_type": "markdown",
   "metadata": {
    "id": "4mIipiavWiby"
   },
   "source": [
    "2. Escribe un programa que solicite al usuario que introduzca un número entero. Si el usuario introduce algo que no es un número entero, lanza una excepción y muestra un mensaje adecuado."
   ]
  },
  {
   "cell_type": "code",
   "execution_count": 17,
   "metadata": {},
   "outputs": [
    {
     "name": "stdin",
     "output_type": "stream",
     "text": [
      "Escribe un número entero:  \"\"\n"
     ]
    },
    {
     "name": "stdout",
     "output_type": "stream",
     "text": [
      "No has introducido un número entero\n"
     ]
    }
   ],
   "source": [
    "try:\n",
    "    num_entero = int(input(\"Escribe un número entero: \"))\n",
    "except ValueError:\n",
    "    print(\"No has introducido un número entero\")"
   ]
  },
  {
   "cell_type": "markdown",
   "metadata": {
    "id": "4JAPbYF7Wivr"
   },
   "source": [
    "3. Modifica el programa anterior para que maneje las excepciones ValueError y ZeroDivisionError. Si el usuario introduce un número no válido, muestra un mensaje, y si intenta dividir por cero, muestra otro mensaje."
   ]
  },
  {
   "cell_type": "code",
   "execution_count": 25,
   "metadata": {},
   "outputs": [
    {
     "name": "stdin",
     "output_type": "stream",
     "text": [
      "Escribe un número:  0\n",
      "Escribe otro número:  0\n"
     ]
    },
    {
     "name": "stdout",
     "output_type": "stream",
     "text": [
      "No se puede dividir entre cero\n"
     ]
    }
   ],
   "source": [
    "try:\n",
    "    num1 = int(input(\"Escribe un número: \"))\n",
    "    num2 = int(input(\"Escribe otro número: \"))\n",
    "\n",
    "    print(num1/num2)\n",
    "except ValueError:\n",
    "    print(\"No has introducido un número entero\")\n",
    "except ZeroDivisionError:\n",
    "    print(\"No se puede dividir entre cero\")"
   ]
  },
  {
   "cell_type": "markdown",
   "metadata": {
    "id": "yynSomajWi_7"
   },
   "source": [
    "4. Escribe un programa que intente abrir un archivo, lea su contenido y lo muestre. Utiliza finally para asegurarte de que el archivo siempre se cierre, independientemente de si ocurre una excepción."
   ]
  },
  {
   "cell_type": "code",
   "execution_count": 9,
   "metadata": {},
   "outputs": [
    {
     "name": "stdout",
     "output_type": "stream",
     "text": [
      "hola\n",
      "\n",
      "buenas\n",
      "\n",
      "tardes\n",
      "\n",
      "1234\n"
     ]
    }
   ],
   "source": [
    "try:\n",
    "    archivo = open(\"prueba.txt\", \"r\")\n",
    "    contenido = archivo.read()\n",
    "    print(contenido)\n",
    "    #archivo.readline()\n",
    "except FileNotFoundError: \n",
    "    print(\"Error: Archivo no encontrado\")\n",
    "finally:\n",
    "    archivo.close()"
   ]
  },
  {
   "cell_type": "markdown",
   "metadata": {
    "id": "0J0Q_B5mWZ-a"
   },
   "source": [
    "5. Crea una excepción personalizada llamada EdadInvalidaError. Luego, escribe un programa que solicite al usuario que introduzca su edad. Si la edad es negativa o mayor de 120, lanza la excepción personalizada con un mensaje de error adecuado.\n"
   ]
  },
  {
   "cell_type": "code",
   "execution_count": 15,
   "metadata": {},
   "outputs": [
    {
     "name": "stdin",
     "output_type": "stream",
     "text": [
      "Escribe tu edad:  13\n"
     ]
    },
    {
     "name": "stdout",
     "output_type": "stream",
     "text": [
      "Mi edad es 13\n"
     ]
    }
   ],
   "source": [
    "class EdadInvalidaError(Exception):\n",
    "    def __init__(self, mensaje):\n",
    "        super().__init__(mensaje)\n",
    "    pass\n",
    "\n",
    "edad = int(input(\"Escribe tu edad: \"))\n",
    "\n",
    "if edad < 0:\n",
    "    raise EdadInvalidaError(\"Error: La edad no puede ser menor que 0\")\n",
    "elif edad > 120:\n",
    "    raise EdadInvalidaError(\"Error: La edad no puede ser mayor que 120\")\n",
    "else:\n",
    "    print(f\"Mi edad es {edad}\")"
   ]
  }
 ],
 "metadata": {
  "colab": {
   "authorship_tag": "ABX9TyMIeRk4n1iuUrKH0C9+b6Zk",
   "provenance": []
  },
  "kernelspec": {
   "display_name": "Python 3 (ipykernel)",
   "language": "python",
   "name": "python3"
  },
  "language_info": {
   "codemirror_mode": {
    "name": "ipython",
    "version": 3
   },
   "file_extension": ".py",
   "mimetype": "text/x-python",
   "name": "python",
   "nbconvert_exporter": "python",
   "pygments_lexer": "ipython3",
   "version": "3.12.4"
  }
 },
 "nbformat": 4,
 "nbformat_minor": 4
}
